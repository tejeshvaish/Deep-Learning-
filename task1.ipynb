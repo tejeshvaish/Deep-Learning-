{
  "nbformat": 4,
  "nbformat_minor": 0,
  "metadata": {
    "colab": {
      "name": "task1.ipynb",
      "provenance": [],
      "authorship_tag": "ABX9TyMijyUDCh4EumYBvFwEMWzH",
      "include_colab_link": true
    },
    "kernelspec": {
      "name": "python3",
      "display_name": "Python 3"
    }
  },
  "cells": [
    {
      "cell_type": "markdown",
      "metadata": {
        "id": "view-in-github",
        "colab_type": "text"
      },
      "source": [
        "<a href=\"https://colab.research.google.com/github/tejeshvaish/Deep-Learning-/blob/master/task1.ipynb\" target=\"_parent\"><img src=\"https://colab.research.google.com/assets/colab-badge.svg\" alt=\"Open In Colab\"/></a>"
      ]
    },
    {
      "cell_type": "code",
      "metadata": {
        "id": "PAABKryyJIK0",
        "colab_type": "code",
        "colab": {}
      },
      "source": [
        "import pandas as pd  \n",
        "import numpy as np  \n",
        "import matplotlib.pyplot as plt  \n",
        "import seaborn as seabornInstance \n",
        "from sklearn.model_selection import train_test_split \n",
        "from sklearn.linear_model import LinearRegression\n",
        "from sklearn import metrics\n",
        "%matplotlib inline\n"
      ],
      "execution_count": 0,
      "outputs": []
    },
    {
      "cell_type": "code",
      "metadata": {
        "id": "9LQxA70WJbLM",
        "colab_type": "code",
        "colab": {
          "resources": {
            "http://localhost:8080/nbextensions/google.colab/files.js": {
              "data": "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",
              "ok": true,
              "headers": [
                [
                  "content-type",
                  "application/javascript"
                ]
              ],
              "status": 200,
              "status_text": ""
            }
          },
          "base_uri": "https://localhost:8080/",
          "height": 71
        },
        "outputId": "81e24aac-db3b-4ee9-f7c6-3a7cff923c88"
      },
      "source": [
        "from google.colab import files\n",
        "uploaded = files.upload()\n"
      ],
      "execution_count": 29,
      "outputs": [
        {
          "output_type": "display_data",
          "data": {
            "text/html": [
              "\n",
              "     <input type=\"file\" id=\"files-850354fe-44f3-4a6c-80ed-e8054a403da3\" name=\"files[]\" multiple disabled />\n",
              "     <output id=\"result-850354fe-44f3-4a6c-80ed-e8054a403da3\">\n",
              "      Upload widget is only available when the cell has been executed in the\n",
              "      current browser session. Please rerun this cell to enable.\n",
              "      </output>\n",
              "      <script src=\"/nbextensions/google.colab/files.js\"></script> "
            ],
            "text/plain": [
              "<IPython.core.display.HTML object>"
            ]
          },
          "metadata": {
            "tags": []
          }
        },
        {
          "output_type": "stream",
          "text": [
            "Saving  House_prediction.csv to  House_prediction (1).csv\n"
          ],
          "name": "stdout"
        }
      ]
    },
    {
      "cell_type": "code",
      "metadata": {
        "id": "mcdegdxf8QyR",
        "colab_type": "code",
        "colab": {}
      },
      "source": [
        ""
      ],
      "execution_count": 0,
      "outputs": []
    },
    {
      "cell_type": "code",
      "metadata": {
        "id": "XaPOxkeaK6St",
        "colab_type": "code",
        "colab": {
          "base_uri": "https://localhost:8080/",
          "height": 34
        },
        "outputId": "fa2c1a6d-5a3a-4ac8-aff1-b6be8df90ad1"
      },
      "source": [
        "import io\n",
        "dataset = pd.read_csv(io.BytesIO(uploaded[' House_prediction.csv']))\n",
        "dataset.shape"
      ],
      "execution_count": 32,
      "outputs": [
        {
          "output_type": "execute_result",
          "data": {
            "text/plain": [
              "(10692, 11)"
            ]
          },
          "metadata": {
            "tags": []
          },
          "execution_count": 32
        }
      ]
    },
    {
      "cell_type": "code",
      "metadata": {
        "id": "ZqpOwsYqLFww",
        "colab_type": "code",
        "colab": {
          "base_uri": "https://localhost:8080/",
          "height": 331
        },
        "outputId": "0a39ab9f-ed78-40b8-8e04-890fe083fac8"
      },
      "source": [
        "dataset.describe()"
      ],
      "execution_count": 128,
      "outputs": [
        {
          "output_type": "execute_result",
          "data": {
            "text/html": [
              "<div>\n",
              "<style scoped>\n",
              "    .dataframe tbody tr th:only-of-type {\n",
              "        vertical-align: middle;\n",
              "    }\n",
              "\n",
              "    .dataframe tbody tr th {\n",
              "        vertical-align: top;\n",
              "    }\n",
              "\n",
              "    .dataframe thead th {\n",
              "        text-align: right;\n",
              "    }\n",
              "</style>\n",
              "<table border=\"1\" class=\"dataframe\">\n",
              "  <thead>\n",
              "    <tr style=\"text-align: right;\">\n",
              "      <th></th>\n",
              "      <th>area</th>\n",
              "      <th>rooms</th>\n",
              "      <th>bathroom</th>\n",
              "      <th>parking spaces</th>\n",
              "      <th>floor</th>\n",
              "      <th>hoa (R$)</th>\n",
              "      <th>rent amount (R$)</th>\n",
              "      <th>property tax (R$)</th>\n",
              "      <th>fire insurance (R$)</th>\n",
              "      <th>total (R$)</th>\n",
              "    </tr>\n",
              "  </thead>\n",
              "  <tbody>\n",
              "    <tr>\n",
              "      <th>count</th>\n",
              "      <td>10692.000000</td>\n",
              "      <td>10692.000000</td>\n",
              "      <td>10692.000000</td>\n",
              "      <td>10692.000000</td>\n",
              "      <td>10692.000000</td>\n",
              "      <td>1.069200e+04</td>\n",
              "      <td>10692.000000</td>\n",
              "      <td>10692.000000</td>\n",
              "      <td>10692.000000</td>\n",
              "      <td>1.069200e+04</td>\n",
              "    </tr>\n",
              "    <tr>\n",
              "      <th>mean</th>\n",
              "      <td>149.217920</td>\n",
              "      <td>2.506079</td>\n",
              "      <td>2.236813</td>\n",
              "      <td>1.609147</td>\n",
              "      <td>5.067995</td>\n",
              "      <td>1.174022e+03</td>\n",
              "      <td>3896.247194</td>\n",
              "      <td>366.704358</td>\n",
              "      <td>53.300879</td>\n",
              "      <td>5.490487e+03</td>\n",
              "    </tr>\n",
              "    <tr>\n",
              "      <th>std</th>\n",
              "      <td>537.016942</td>\n",
              "      <td>1.171266</td>\n",
              "      <td>1.407198</td>\n",
              "      <td>1.589521</td>\n",
              "      <td>6.069050</td>\n",
              "      <td>1.559231e+04</td>\n",
              "      <td>3408.545518</td>\n",
              "      <td>3107.832321</td>\n",
              "      <td>47.768031</td>\n",
              "      <td>1.648473e+04</td>\n",
              "    </tr>\n",
              "    <tr>\n",
              "      <th>min</th>\n",
              "      <td>11.000000</td>\n",
              "      <td>1.000000</td>\n",
              "      <td>1.000000</td>\n",
              "      <td>0.000000</td>\n",
              "      <td>0.000000</td>\n",
              "      <td>0.000000e+00</td>\n",
              "      <td>450.000000</td>\n",
              "      <td>0.000000</td>\n",
              "      <td>3.000000</td>\n",
              "      <td>4.990000e+02</td>\n",
              "    </tr>\n",
              "    <tr>\n",
              "      <th>25%</th>\n",
              "      <td>56.000000</td>\n",
              "      <td>2.000000</td>\n",
              "      <td>1.000000</td>\n",
              "      <td>0.000000</td>\n",
              "      <td>1.000000</td>\n",
              "      <td>1.700000e+02</td>\n",
              "      <td>1530.000000</td>\n",
              "      <td>38.000000</td>\n",
              "      <td>21.000000</td>\n",
              "      <td>2.061750e+03</td>\n",
              "    </tr>\n",
              "    <tr>\n",
              "      <th>50%</th>\n",
              "      <td>90.000000</td>\n",
              "      <td>2.000000</td>\n",
              "      <td>2.000000</td>\n",
              "      <td>1.000000</td>\n",
              "      <td>3.000000</td>\n",
              "      <td>5.600000e+02</td>\n",
              "      <td>2661.000000</td>\n",
              "      <td>125.000000</td>\n",
              "      <td>36.000000</td>\n",
              "      <td>3.581500e+03</td>\n",
              "    </tr>\n",
              "    <tr>\n",
              "      <th>75%</th>\n",
              "      <td>182.000000</td>\n",
              "      <td>3.000000</td>\n",
              "      <td>3.000000</td>\n",
              "      <td>2.000000</td>\n",
              "      <td>8.000000</td>\n",
              "      <td>1.237500e+03</td>\n",
              "      <td>5000.000000</td>\n",
              "      <td>375.000000</td>\n",
              "      <td>68.000000</td>\n",
              "      <td>6.768000e+03</td>\n",
              "    </tr>\n",
              "    <tr>\n",
              "      <th>max</th>\n",
              "      <td>46335.000000</td>\n",
              "      <td>13.000000</td>\n",
              "      <td>10.000000</td>\n",
              "      <td>12.000000</td>\n",
              "      <td>301.000000</td>\n",
              "      <td>1.117000e+06</td>\n",
              "      <td>45000.000000</td>\n",
              "      <td>313700.000000</td>\n",
              "      <td>677.000000</td>\n",
              "      <td>1.120000e+06</td>\n",
              "    </tr>\n",
              "  </tbody>\n",
              "</table>\n",
              "</div>"
            ],
            "text/plain": [
              "               area         rooms  ...  fire insurance (R$)    total (R$)\n",
              "count  10692.000000  10692.000000  ...         10692.000000  1.069200e+04\n",
              "mean     149.217920      2.506079  ...            53.300879  5.490487e+03\n",
              "std      537.016942      1.171266  ...            47.768031  1.648473e+04\n",
              "min       11.000000      1.000000  ...             3.000000  4.990000e+02\n",
              "25%       56.000000      2.000000  ...            21.000000  2.061750e+03\n",
              "50%       90.000000      2.000000  ...            36.000000  3.581500e+03\n",
              "75%      182.000000      3.000000  ...            68.000000  6.768000e+03\n",
              "max    46335.000000     13.000000  ...           677.000000  1.120000e+06\n",
              "\n",
              "[8 rows x 10 columns]"
            ]
          },
          "metadata": {
            "tags": []
          },
          "execution_count": 128
        }
      ]
    },
    {
      "cell_type": "code",
      "metadata": {
        "id": "I8j3Pi_MLJE_",
        "colab_type": "code",
        "colab": {
          "base_uri": "https://localhost:8080/",
          "height": 295
        },
        "outputId": "1164799a-0b16-4f23-c2d2-f6a3e6f31ef6"
      },
      "source": [
        "dataset.plot(x='city', y='rent amount (R$)', style='o')  \n",
        "plt.title('city vs rent amount')  \n",
        "plt.xlabel('city')  \n",
        "plt.ylabel('rent amount')  \n",
        "plt.show()"
      ],
      "execution_count": 129,
      "outputs": [
        {
          "output_type": "display_data",
          "data": {
            "image/png": "[encoded data removed]",
            "text/plain": [
              "<Figure size 432x288 with 1 Axes>"
            ]
          },
          "metadata": {
            "tags": [],
            "needs_background": "light"
          }
        }
      ]
    },
    {
      "cell_type": "code",
      "metadata": {
        "id": "CfLm_2MU8TcX",
        "colab_type": "code",
        "colab": {
          "base_uri": "https://localhost:8080/",
          "height": 470
        },
        "outputId": "2f6e60d4-7951-48dc-9dd4-2d325236983b"
      },
      "source": [
        "dataset"
      ],
      "execution_count": 130,
      "outputs": [
        {
          "output_type": "execute_result",
          "data": {
            "text/html": [
              "<div>\n",
              "<style scoped>\n",
              "    .dataframe tbody tr th:only-of-type {\n",
              "        vertical-align: middle;\n",
              "    }\n",
              "\n",
              "    .dataframe tbody tr th {\n",
              "        vertical-align: top;\n",
              "    }\n",
              "\n",
              "    .dataframe thead th {\n",
              "        text-align: right;\n",
              "    }\n",
              "</style>\n",
              "<table border=\"1\" class=\"dataframe\">\n",
              "  <thead>\n",
              "    <tr style=\"text-align: right;\">\n",
              "      <th></th>\n",
              "      <th>city</th>\n",
              "      <th>area</th>\n",
              "      <th>rooms</th>\n",
              "      <th>bathroom</th>\n",
              "      <th>parking spaces</th>\n",
              "      <th>floor</th>\n",
              "      <th>hoa (R$)</th>\n",
              "      <th>rent amount (R$)</th>\n",
              "      <th>property tax (R$)</th>\n",
              "      <th>fire insurance (R$)</th>\n",
              "      <th>total (R$)</th>\n",
              "    </tr>\n",
              "  </thead>\n",
              "  <tbody>\n",
              "    <tr>\n",
              "      <th>0</th>\n",
              "      <td>São Paulo</td>\n",
              "      <td>70</td>\n",
              "      <td>2</td>\n",
              "      <td>1</td>\n",
              "      <td>1</td>\n",
              "      <td>7</td>\n",
              "      <td>2065</td>\n",
              "      <td>3300</td>\n",
              "      <td>211</td>\n",
              "      <td>42</td>\n",
              "      <td>5618</td>\n",
              "    </tr>\n",
              "    <tr>\n",
              "      <th>1</th>\n",
              "      <td>São Paulo</td>\n",
              "      <td>320</td>\n",
              "      <td>4</td>\n",
              "      <td>4</td>\n",
              "      <td>0</td>\n",
              "      <td>20</td>\n",
              "      <td>1200</td>\n",
              "      <td>4960</td>\n",
              "      <td>1750</td>\n",
              "      <td>63</td>\n",
              "      <td>7973</td>\n",
              "    </tr>\n",
              "    <tr>\n",
              "      <th>2</th>\n",
              "      <td>Porto Alegre</td>\n",
              "      <td>80</td>\n",
              "      <td>1</td>\n",
              "      <td>1</td>\n",
              "      <td>1</td>\n",
              "      <td>6</td>\n",
              "      <td>1000</td>\n",
              "      <td>2800</td>\n",
              "      <td>0</td>\n",
              "      <td>41</td>\n",
              "      <td>3841</td>\n",
              "    </tr>\n",
              "    <tr>\n",
              "      <th>3</th>\n",
              "      <td>Porto Alegre</td>\n",
              "      <td>51</td>\n",
              "      <td>2</td>\n",
              "      <td>1</td>\n",
              "      <td>0</td>\n",
              "      <td>2</td>\n",
              "      <td>270</td>\n",
              "      <td>1112</td>\n",
              "      <td>22</td>\n",
              "      <td>17</td>\n",
              "      <td>1421</td>\n",
              "    </tr>\n",
              "    <tr>\n",
              "      <th>4</th>\n",
              "      <td>São Paulo</td>\n",
              "      <td>25</td>\n",
              "      <td>1</td>\n",
              "      <td>1</td>\n",
              "      <td>0</td>\n",
              "      <td>1</td>\n",
              "      <td>0</td>\n",
              "      <td>800</td>\n",
              "      <td>25</td>\n",
              "      <td>11</td>\n",
              "      <td>836</td>\n",
              "    </tr>\n",
              "    <tr>\n",
              "      <th>...</th>\n",
              "      <td>...</td>\n",
              "      <td>...</td>\n",
              "      <td>...</td>\n",
              "      <td>...</td>\n",
              "      <td>...</td>\n",
              "      <td>...</td>\n",
              "      <td>...</td>\n",
              "      <td>...</td>\n",
              "      <td>...</td>\n",
              "      <td>...</td>\n",
              "      <td>...</td>\n",
              "    </tr>\n",
              "    <tr>\n",
              "      <th>10687</th>\n",
              "      <td>Porto Alegre</td>\n",
              "      <td>63</td>\n",
              "      <td>2</td>\n",
              "      <td>1</td>\n",
              "      <td>1</td>\n",
              "      <td>5</td>\n",
              "      <td>402</td>\n",
              "      <td>1478</td>\n",
              "      <td>24</td>\n",
              "      <td>22</td>\n",
              "      <td>1926</td>\n",
              "    </tr>\n",
              "    <tr>\n",
              "      <th>10688</th>\n",
              "      <td>São Paulo</td>\n",
              "      <td>285</td>\n",
              "      <td>4</td>\n",
              "      <td>4</td>\n",
              "      <td>4</td>\n",
              "      <td>17</td>\n",
              "      <td>3100</td>\n",
              "      <td>15000</td>\n",
              "      <td>973</td>\n",
              "      <td>191</td>\n",
              "      <td>19260</td>\n",
              "    </tr>\n",
              "    <tr>\n",
              "      <th>10689</th>\n",
              "      <td>Rio de Janeiro</td>\n",
              "      <td>70</td>\n",
              "      <td>3</td>\n",
              "      <td>3</td>\n",
              "      <td>0</td>\n",
              "      <td>8</td>\n",
              "      <td>980</td>\n",
              "      <td>6000</td>\n",
              "      <td>332</td>\n",
              "      <td>78</td>\n",
              "      <td>7390</td>\n",
              "    </tr>\n",
              "    <tr>\n",
              "      <th>10690</th>\n",
              "      <td>Rio de Janeiro</td>\n",
              "      <td>120</td>\n",
              "      <td>2</td>\n",
              "      <td>2</td>\n",
              "      <td>2</td>\n",
              "      <td>8</td>\n",
              "      <td>1585</td>\n",
              "      <td>12000</td>\n",
              "      <td>279</td>\n",
              "      <td>155</td>\n",
              "      <td>14020</td>\n",
              "    </tr>\n",
              "    <tr>\n",
              "      <th>10691</th>\n",
              "      <td>São Paulo</td>\n",
              "      <td>80</td>\n",
              "      <td>2</td>\n",
              "      <td>1</td>\n",
              "      <td>0</td>\n",
              "      <td>0</td>\n",
              "      <td>0</td>\n",
              "      <td>1400</td>\n",
              "      <td>165</td>\n",
              "      <td>22</td>\n",
              "      <td>1587</td>\n",
              "    </tr>\n",
              "  </tbody>\n",
              "</table>\n",
              "<p>10692 rows × 11 columns</p>\n",
              "</div>"
            ],
            "text/plain": [
              "                 city  area  ...  fire insurance (R$)  total (R$)\n",
              "0           São Paulo    70  ...                   42        5618\n",
              "1           São Paulo   320  ...                   63        7973\n",
              "2        Porto Alegre    80  ...                   41        3841\n",
              "3        Porto Alegre    51  ...                   17        1421\n",
              "4           São Paulo    25  ...                   11         836\n",
              "...               ...   ...  ...                  ...         ...\n",
              "10687    Porto Alegre    63  ...                   22        1926\n",
              "10688       São Paulo   285  ...                  191       19260\n",
              "10689  Rio de Janeiro    70  ...                   78        7390\n",
              "10690  Rio de Janeiro   120  ...                  155       14020\n",
              "10691       São Paulo    80  ...                   22        1587\n",
              "\n",
              "[10692 rows x 11 columns]"
            ]
          },
          "metadata": {
            "tags": []
          },
          "execution_count": 130
        }
      ]
    },
    {
      "cell_type": "code",
      "metadata": {
        "id": "NzDm0E2I8eNU",
        "colab_type": "code",
        "colab": {}
      },
      "source": [
        "df=dataset[:10000]\n",
        "df\n",
        "train =df"
      ],
      "execution_count": 0,
      "outputs": []
    },
    {
      "cell_type": "code",
      "metadata": {
        "id": "jlvKluqlk0wj",
        "colab_type": "code",
        "colab": {
          "base_uri": "https://localhost:8080/",
          "height": 487
        },
        "outputId": "2623eb78-b772-4662-d6ba-272e0c4581ab"
      },
      "source": [
        "test=dataset[10000:]\n",
        "test\n"
      ],
      "execution_count": 132,
      "outputs": [
        {
          "output_type": "execute_result",
          "data": {
            "text/html": [
              "<div>\n",
              "<style scoped>\n",
              "    .dataframe tbody tr th:only-of-type {\n",
              "        vertical-align: middle;\n",
              "    }\n",
              "\n",
              "    .dataframe tbody tr th {\n",
              "        vertical-align: top;\n",
              "    }\n",
              "\n",
              "    .dataframe thead th {\n",
              "        text-align: right;\n",
              "    }\n",
              "</style>\n",
              "<table border=\"1\" class=\"dataframe\">\n",
              "  <thead>\n",
              "    <tr style=\"text-align: right;\">\n",
              "      <th></th>\n",
              "      <th>city</th>\n",
              "      <th>area</th>\n",
              "      <th>rooms</th>\n",
              "      <th>bathroom</th>\n",
              "      <th>parking spaces</th>\n",
              "      <th>floor</th>\n",
              "      <th>hoa (R$)</th>\n",
              "      <th>rent amount (R$)</th>\n",
              "      <th>property tax (R$)</th>\n",
              "      <th>fire insurance (R$)</th>\n",
              "      <th>total (R$)</th>\n",
              "    </tr>\n",
              "  </thead>\n",
              "  <tbody>\n",
              "    <tr>\n",
              "      <th>10000</th>\n",
              "      <td>São Paulo</td>\n",
              "      <td>98</td>\n",
              "      <td>2</td>\n",
              "      <td>1</td>\n",
              "      <td>1</td>\n",
              "      <td>4</td>\n",
              "      <td>1028</td>\n",
              "      <td>3080</td>\n",
              "      <td>129</td>\n",
              "      <td>40</td>\n",
              "      <td>4277</td>\n",
              "    </tr>\n",
              "    <tr>\n",
              "      <th>10001</th>\n",
              "      <td>Belo Horizonte</td>\n",
              "      <td>50</td>\n",
              "      <td>2</td>\n",
              "      <td>1</td>\n",
              "      <td>1</td>\n",
              "      <td>1</td>\n",
              "      <td>300</td>\n",
              "      <td>1100</td>\n",
              "      <td>68</td>\n",
              "      <td>15</td>\n",
              "      <td>1483</td>\n",
              "    </tr>\n",
              "    <tr>\n",
              "      <th>10002</th>\n",
              "      <td>São Paulo</td>\n",
              "      <td>53</td>\n",
              "      <td>2</td>\n",
              "      <td>2</td>\n",
              "      <td>1</td>\n",
              "      <td>9</td>\n",
              "      <td>722</td>\n",
              "      <td>2100</td>\n",
              "      <td>0</td>\n",
              "      <td>27</td>\n",
              "      <td>2849</td>\n",
              "    </tr>\n",
              "    <tr>\n",
              "      <th>10003</th>\n",
              "      <td>São Paulo</td>\n",
              "      <td>32</td>\n",
              "      <td>1</td>\n",
              "      <td>1</td>\n",
              "      <td>0</td>\n",
              "      <td>1</td>\n",
              "      <td>400</td>\n",
              "      <td>1990</td>\n",
              "      <td>0</td>\n",
              "      <td>26</td>\n",
              "      <td>2416</td>\n",
              "    </tr>\n",
              "    <tr>\n",
              "      <th>10004</th>\n",
              "      <td>São Paulo</td>\n",
              "      <td>47</td>\n",
              "      <td>1</td>\n",
              "      <td>2</td>\n",
              "      <td>1</td>\n",
              "      <td>11</td>\n",
              "      <td>740</td>\n",
              "      <td>3200</td>\n",
              "      <td>150</td>\n",
              "      <td>41</td>\n",
              "      <td>4131</td>\n",
              "    </tr>\n",
              "    <tr>\n",
              "      <th>...</th>\n",
              "      <td>...</td>\n",
              "      <td>...</td>\n",
              "      <td>...</td>\n",
              "      <td>...</td>\n",
              "      <td>...</td>\n",
              "      <td>...</td>\n",
              "      <td>...</td>\n",
              "      <td>...</td>\n",
              "      <td>...</td>\n",
              "      <td>...</td>\n",
              "      <td>...</td>\n",
              "    </tr>\n",
              "    <tr>\n",
              "      <th>10687</th>\n",
              "      <td>Porto Alegre</td>\n",
              "      <td>63</td>\n",
              "      <td>2</td>\n",
              "      <td>1</td>\n",
              "      <td>1</td>\n",
              "      <td>5</td>\n",
              "      <td>402</td>\n",
              "      <td>1478</td>\n",
              "      <td>24</td>\n",
              "      <td>22</td>\n",
              "      <td>1926</td>\n",
              "    </tr>\n",
              "    <tr>\n",
              "      <th>10688</th>\n",
              "      <td>São Paulo</td>\n",
              "      <td>285</td>\n",
              "      <td>4</td>\n",
              "      <td>4</td>\n",
              "      <td>4</td>\n",
              "      <td>17</td>\n",
              "      <td>3100</td>\n",
              "      <td>15000</td>\n",
              "      <td>973</td>\n",
              "      <td>191</td>\n",
              "      <td>19260</td>\n",
              "    </tr>\n",
              "    <tr>\n",
              "      <th>10689</th>\n",
              "      <td>Rio de Janeiro</td>\n",
              "      <td>70</td>\n",
              "      <td>3</td>\n",
              "      <td>3</td>\n",
              "      <td>0</td>\n",
              "      <td>8</td>\n",
              "      <td>980</td>\n",
              "      <td>6000</td>\n",
              "      <td>332</td>\n",
              "      <td>78</td>\n",
              "      <td>7390</td>\n",
              "    </tr>\n",
              "    <tr>\n",
              "      <th>10690</th>\n",
              "      <td>Rio de Janeiro</td>\n",
              "      <td>120</td>\n",
              "      <td>2</td>\n",
              "      <td>2</td>\n",
              "      <td>2</td>\n",
              "      <td>8</td>\n",
              "      <td>1585</td>\n",
              "      <td>12000</td>\n",
              "      <td>279</td>\n",
              "      <td>155</td>\n",
              "      <td>14020</td>\n",
              "    </tr>\n",
              "    <tr>\n",
              "      <th>10691</th>\n",
              "      <td>São Paulo</td>\n",
              "      <td>80</td>\n",
              "      <td>2</td>\n",
              "      <td>1</td>\n",
              "      <td>0</td>\n",
              "      <td>0</td>\n",
              "      <td>0</td>\n",
              "      <td>1400</td>\n",
              "      <td>165</td>\n",
              "      <td>22</td>\n",
              "      <td>1587</td>\n",
              "    </tr>\n",
              "  </tbody>\n",
              "</table>\n",
              "<p>692 rows × 11 columns</p>\n",
              "</div>"
            ],
            "text/plain": [
              "                 city  area  ...  fire insurance (R$)  total (R$)\n",
              "10000       São Paulo    98  ...                   40        4277\n",
              "10001  Belo Horizonte    50  ...                   15        1483\n",
              "10002       São Paulo    53  ...                   27        2849\n",
              "10003       São Paulo    32  ...                   26        2416\n",
              "10004       São Paulo    47  ...                   41        4131\n",
              "...               ...   ...  ...                  ...         ...\n",
              "10687    Porto Alegre    63  ...                   22        1926\n",
              "10688       São Paulo   285  ...                  191       19260\n",
              "10689  Rio de Janeiro    70  ...                   78        7390\n",
              "10690  Rio de Janeiro   120  ...                  155       14020\n",
              "10691       São Paulo    80  ...                   22        1587\n",
              "\n",
              "[692 rows x 11 columns]"
            ]
          },
          "metadata": {
            "tags": []
          },
          "execution_count": 132
        }
      ]
    },
    {
      "cell_type": "code",
      "metadata": {
        "id": "yhkgHtinClhV",
        "colab_type": "code",
        "colab": {}
      },
      "source": [
        "X_test=test[['city','area','rooms','bathroom','parking spaces','floor','hoa (R$)','property tax (R$)','fire insurance (R$)','total (R$)']].values"
      ],
      "execution_count": 0,
      "outputs": []
    },
    {
      "cell_type": "code",
      "metadata": {
        "id": "gr8JDVv_DVFV",
        "colab_type": "code",
        "colab": {
          "base_uri": "https://localhost:8080/",
          "height": 221
        },
        "outputId": "78fc86b5-95a4-4d6e-cb0f-bc9ddd9e9c7e"
      },
      "source": [
        "y_test=test['rent amount (R$)']\n",
        "y_test"
      ],
      "execution_count": 99,
      "outputs": [
        {
          "output_type": "execute_result",
          "data": {
            "text/plain": [
              "10000     3080\n",
              "10001     1100\n",
              "10002     2100\n",
              "10003     1990\n",
              "10004     3200\n",
              "         ...  \n",
              "10687     1478\n",
              "10688    15000\n",
              "10689     6000\n",
              "10690    12000\n",
              "10691     1400\n",
              "Name: rent amount (R$), Length: 692, dtype: int64"
            ]
          },
          "metadata": {
            "tags": []
          },
          "execution_count": 99
        }
      ]
    },
    {
      "cell_type": "code",
      "metadata": {
        "id": "qkF0FHQFk_Oo",
        "colab_type": "code",
        "colab": {
          "base_uri": "https://localhost:8080/",
          "height": 1000
        },
        "outputId": "10374734-2c53-45ae-8140-f3f313db2998"
      },
      "source": [
        "grouped =train.groupby(['city'])\n",
        "l_grouped = list(grouped)\n",
        "l_grouped"
      ],
      "execution_count": 133,
      "outputs": [
        {
          "output_type": "execute_result",
          "data": {
            "text/plain": [
              "[('Belo Horizonte',\n",
              "                  city  area  ...  fire insurance (R$)  total (R$)\n",
              "  21    Belo Horizonte    42  ...                   36        3368\n",
              "  27    Belo Horizonte    64  ...                   20        1952\n",
              "  37    Belo Horizonte    80  ...                  181       11610\n",
              "  42    Belo Horizonte   200  ...                   34        3443\n",
              "  43    Belo Horizonte    45  ...                   12        2335\n",
              "  ...              ...   ...  ...                  ...         ...\n",
              "  9970  Belo Horizonte   114  ...                   22        3972\n",
              "  9973  Belo Horizonte    30  ...                   16        1281\n",
              "  9987  Belo Horizonte   128  ...                   19        2160\n",
              "  9988  Belo Horizonte   250  ...                   58        3558\n",
              "  9995  Belo Horizonte   386  ...                  107        7337\n",
              "  \n",
              "  [1184 rows x 11 columns]),\n",
              " ('Campinas',\n",
              "            city  area  rooms  ...  property tax (R$)  fire insurance (R$)  total (R$)\n",
              "  11    Campinas    46      1  ...                 43                    8        1181\n",
              "  15    Campinas   330      4  ...                328                  121        9129\n",
              "  28    Campinas   208      3  ...                100                   48        3328\n",
              "  48    Campinas   250      3  ...                256                   22        4178\n",
              "  49    Campinas    48      1  ...                 59                   21        2185\n",
              "  ...        ...   ...    ...  ...                ...                  ...         ...\n",
              "  9972  Campinas    82      1  ...                 82                   16        1588\n",
              "  9977  Campinas   620      5  ...               1200                   62       13520\n",
              "  9980  Campinas   268      3  ...                509                   53        4852\n",
              "  9989  Campinas   295      7  ...                334                   94        6628\n",
              "  9993  Campinas   136      3  ...                 87                   17        1923\n",
              "  \n",
              "  [788 rows x 11 columns]),\n",
              " ('Porto Alegre',\n",
              "                city  area  ...  fire insurance (R$)  total (R$)\n",
              "  2     Porto Alegre    80  ...                   41        3841\n",
              "  3     Porto Alegre    51  ...                   17        1421\n",
              "  35    Porto Alegre    38  ...                   26        2226\n",
              "  39    Porto Alegre    40  ...                   44        3424\n",
              "  47    Porto Alegre    42  ...                   26        2003\n",
              "  ...            ...   ...  ...                  ...         ...\n",
              "  9961  Porto Alegre    77  ...                   30        2480\n",
              "  9963  Porto Alegre   110  ...                   33        5333\n",
              "  9968  Porto Alegre    26  ...                   12        1074\n",
              "  9974  Porto Alegre    69  ...                   31        2586\n",
              "  9999  Porto Alegre    48  ...                   11        1032\n",
              "  \n",
              "  [1129 rows x 11 columns]),\n",
              " ('Rio de Janeiro',\n",
              "                  city  area  ...  fire insurance (R$)  total (R$)\n",
              "  6     Rio de Janeiro    72  ...                   25        2750\n",
              "  9     Rio de Janeiro    35  ...                   30        2955\n",
              "  17    Rio de Janeiro    88  ...                   16        5351\n",
              "  18    Rio de Janeiro    56  ...                   16        2036\n",
              "  24    Rio de Janeiro    90  ...                   24        2742\n",
              "  ...              ...   ...  ...                  ...         ...\n",
              "  9971  Rio de Janeiro    68  ...                   26        2791\n",
              "  9982  Rio de Janeiro    24  ...                   19        2278\n",
              "  9985  Rio de Janeiro    86  ...                   31        3636\n",
              "  9990  Rio de Janeiro    80  ...                   33        3488\n",
              "  9994  Rio de Janeiro   170  ...                   33        3851\n",
              "  \n",
              "  [1401 rows x 11 columns]),\n",
              " ('São Paulo',            city  area  ...  fire insurance (R$)  total (R$)\n",
              "  0     São Paulo    70  ...                   42        5618\n",
              "  1     São Paulo   320  ...                   63        7973\n",
              "  4     São Paulo    25  ...                   11         836\n",
              "  5     São Paulo   376  ...                  121        8955\n",
              "  7     São Paulo   213  ...                   41        7253\n",
              "  ...         ...   ...  ...                  ...         ...\n",
              "  9991  São Paulo   500  ...                  226       16350\n",
              "  9992  São Paulo   120  ...                   10         900\n",
              "  9996  São Paulo    19  ...                   16        1257\n",
              "  9997  São Paulo   550  ...                  178       19300\n",
              "  9998  São Paulo   384  ...                  151       11200\n",
              "  \n",
              "  [5498 rows x 11 columns])]"
            ]
          },
          "metadata": {
            "tags": []
          },
          "execution_count": 133
        }
      ]
    },
    {
      "cell_type": "code",
      "metadata": {
        "id": "VBOfjVacoC_L",
        "colab_type": "code",
        "colab": {
          "base_uri": "https://localhost:8080/",
          "height": 359
        },
        "outputId": "dfc25065-6bfd-40c0-f200-19941ecedb80"
      },
      "source": [
        ""
      ],
      "execution_count": 37,
      "outputs": [
        {
          "output_type": "execute_result",
          "data": {
            "text/plain": [
              "<matplotlib.axes._subplots.AxesSubplot at 0x7fa92c4f06a0>"
            ]
          },
          "metadata": {
            "tags": []
          },
          "execution_count": 37
        },
        {
          "output_type": "display_data",
          "data": {
            "image/png": "[encoded data removed]",
            "text/plain": [
              "<Figure size 432x288 with 1 Axes>"
            ]
          },
          "metadata": {
            "tags": [],
            "needs_background": "light"
          }
        }
      ]
    },
    {
      "cell_type": "code",
      "metadata": {
        "id": "wl9GqUj2095K",
        "colab_type": "code",
        "outputId": "a739cd69-25a8-49fb-bb7a-bdcdcdec78f4",
        "colab": {
          "base_uri": "https://localhost:8080/",
          "height": 359
        }
      },
      "source": [
        "train.groupby(\"city\")['area'].mean()\n",
        "train.groupby(\"city\")['area'].mean().plot(kind=\"bar\")\n",
        "\n"
      ],
      "execution_count": 43,
      "outputs": [
        {
          "output_type": "execute_result",
          "data": {
            "text/plain": [
              "<matplotlib.axes._subplots.AxesSubplot at 0x7fa92c245898>"
            ]
          },
          "metadata": {
            "tags": []
          },
          "execution_count": 43
        },
        {
          "output_type": "display_data",
          "data": {
            "image/png": "[encoded data removed]",
            "text/plain": [
              "<Figure size 432x288 with 1 Axes>"
            ]
          },
          "metadata": {
            "tags": [],
            "needs_background": "light"
          }
        }
      ]
    },
    {
      "cell_type": "code",
      "metadata": {
        "id": "GqpCnWKh4ApK",
        "colab_type": "code",
        "colab": {
          "base_uri": "https://localhost:8080/",
          "height": 359
        },
        "outputId": "55fe2bc3-cfab-4632-fde0-631d9c1c2c8b"
      },
      "source": [
        "train.groupby(\"city\")['rooms'].mean()\n",
        "train.groupby(\"city\")['rooms'].mean().plot(kind=\"bar\")\n"
      ],
      "execution_count": 44,
      "outputs": [
        {
          "output_type": "execute_result",
          "data": {
            "text/plain": [
              "<matplotlib.axes._subplots.AxesSubplot at 0x7fa92c2452b0>"
            ]
          },
          "metadata": {
            "tags": []
          },
          "execution_count": 44
        },
        {
          "output_type": "display_data",
          "data": {
            "image/png": "[encoded data removed]",
            "text/plain": [
              "<Figure size 432x288 with 1 Axes>"
            ]
          },
          "metadata": {
            "tags": [],
            "needs_background": "light"
          }
        }
      ]
    },
    {
      "cell_type": "code",
      "metadata": {
        "id": "zDJ__p8J4CO9",
        "colab_type": "code",
        "colab": {
          "base_uri": "https://localhost:8080/",
          "height": 359
        },
        "outputId": "cbff3869-428e-481e-d7f1-c0608daf44d0"
      },
      "source": [
        "train.groupby(\"city\")['bathroom'].mean()\n",
        "train.groupby(\"city\")['bathroom'].mean().plot(kind=\"bar\")\n"
      ],
      "execution_count": 45,
      "outputs": [
        {
          "output_type": "execute_result",
          "data": {
            "text/plain": [
              "<matplotlib.axes._subplots.AxesSubplot at 0x7fa92c0ec7f0>"
            ]
          },
          "metadata": {
            "tags": []
          },
          "execution_count": 45
        },
        {
          "output_type": "display_data",
          "data": {
            "image/png": "[encoded data removed]",
            "text/plain": [
              "<Figure size 432x288 with 1 Axes>"
            ]
          },
          "metadata": {
            "tags": [],
            "needs_background": "light"
          }
        }
      ]
    },
    {
      "cell_type": "code",
      "metadata": {
        "id": "dYdD7zqt4EoU",
        "colab_type": "code",
        "colab": {
          "base_uri": "https://localhost:8080/",
          "height": 359
        },
        "outputId": "772a3929-4baf-4f58-d886-02375f66e805"
      },
      "source": [
        "train.groupby(\"city\")['floor'].mean()\n",
        "train.groupby(\"city\")['floor'].mean().plot(kind=\"bar\")\n"
      ],
      "execution_count": 46,
      "outputs": [
        {
          "output_type": "execute_result",
          "data": {
            "text/plain": [
              "<matplotlib.axes._subplots.AxesSubplot at 0x7fa92c0a77f0>"
            ]
          },
          "metadata": {
            "tags": []
          },
          "execution_count": 46
        },
        {
          "output_type": "display_data",
          "data": {
            "image/png": "[encoded data removed]",
            "text/plain": [
              "<Figure size 432x288 with 1 Axes>"
            ]
          },
          "metadata": {
            "tags": [],
            "needs_background": "light"
          }
        }
      ]
    },
    {
      "cell_type": "code",
      "metadata": {
        "id": "gp8z-dan4F6O",
        "colab_type": "code",
        "colab": {
          "base_uri": "https://localhost:8080/",
          "height": 359
        },
        "outputId": "b96f9503-6cd4-4afa-d0af-7929fa676be6"
      },
      "source": [
        "train.groupby(\"city\")['hoa (R$)'].mean()\n",
        "train.groupby(\"city\")['hoa (R$)'].mean().plot(kind=\"bar\")\n"
      ],
      "execution_count": 47,
      "outputs": [
        {
          "output_type": "execute_result",
          "data": {
            "text/plain": [
              "<matplotlib.axes._subplots.AxesSubplot at 0x7fa92c00fd68>"
            ]
          },
          "metadata": {
            "tags": []
          },
          "execution_count": 47
        },
        {
          "output_type": "display_data",
          "data": {
            "image/png": "[encoded data removed]",
            "text/plain": [
              "<Figure size 432x288 with 1 Axes>"
            ]
          },
          "metadata": {
            "tags": [],
            "needs_background": "light"
          }
        }
      ]
    },
    {
      "cell_type": "code",
      "metadata": {
        "id": "W68Hs2hT4HVc",
        "colab_type": "code",
        "colab": {
          "base_uri": "https://localhost:8080/",
          "height": 359
        },
        "outputId": "310993b5-8622-47e3-ca79-5e0cf0dfe92c"
      },
      "source": [
        "train.groupby(\"city\")['rent amount (R$)'].mean()\n",
        "train.groupby(\"city\")['rent amount (R$)'].mean().plot(kind=\"bar\")\n"
      ],
      "execution_count": 48,
      "outputs": [
        {
          "output_type": "execute_result",
          "data": {
            "text/plain": [
              "<matplotlib.axes._subplots.AxesSubplot at 0x7fa92bfe8748>"
            ]
          },
          "metadata": {
            "tags": []
          },
          "execution_count": 48
        },
        {
          "output_type": "display_data",
          "data": {
            "image/png": "[encoded data removed]",
            "text/plain": [
              "<Figure size 432x288 with 1 Axes>"
            ]
          },
          "metadata": {
            "tags": [],
            "needs_background": "light"
          }
        }
      ]
    },
    {
      "cell_type": "code",
      "metadata": {
        "id": "Ay8uPBun4Izl",
        "colab_type": "code",
        "colab": {
          "base_uri": "https://localhost:8080/",
          "height": 359
        },
        "outputId": "a26d4908-17f4-47e6-e365-ff921bfb9fad"
      },
      "source": [
        "train.groupby(\"city\")['property tax (R$)'].mean()\n",
        "train.groupby(\"city\")['property tax (R$)'].mean().plot(kind=\"bar\")\n"
      ],
      "execution_count": 49,
      "outputs": [
        {
          "output_type": "execute_result",
          "data": {
            "text/plain": [
              "<matplotlib.axes._subplots.AxesSubplot at 0x7fa92bf77a20>"
            ]
          },
          "metadata": {
            "tags": []
          },
          "execution_count": 49
        },
        {
          "output_type": "display_data",
          "data": {
            "image/png": "[encoded data removed]",
            "text/plain": [
              "<Figure size 432x288 with 1 Axes>"
            ]
          },
          "metadata": {
            "tags": [],
            "needs_background": "light"
          }
        }
      ]
    },
    {
      "cell_type": "code",
      "metadata": {
        "id": "sK7jzGW_4KHm",
        "colab_type": "code",
        "colab": {
          "base_uri": "https://localhost:8080/",
          "height": 359
        },
        "outputId": "65b8be95-6be2-48cf-c9d8-20a8e1294f9e"
      },
      "source": [
        "train.groupby(\"city\")['fire insurance (R$)'].mean()\n",
        "train.groupby(\"city\")['fire insurance (R$)'].mean().plot(kind=\"bar\")\n"
      ],
      "execution_count": 50,
      "outputs": [
        {
          "output_type": "execute_result",
          "data": {
            "text/plain": [
              "<matplotlib.axes._subplots.AxesSubplot at 0x7fa92c167940>"
            ]
          },
          "metadata": {
            "tags": []
          },
          "execution_count": 50
        },
        {
          "output_type": "display_data",
          "data": {
            "image/png": "[encoded data removed]",
            "text/plain": [
              "<Figure size 432x288 with 1 Axes>"
            ]
          },
          "metadata": {
            "tags": [],
            "needs_background": "light"
          }
        }
      ]
    },
    {
      "cell_type": "code",
      "metadata": {
        "id": "Tn_iBMN54LYu",
        "colab_type": "code",
        "colab": {
          "base_uri": "https://localhost:8080/",
          "height": 359
        },
        "outputId": "651e8c72-e18e-4e66-b882-72d9bd85815e"
      },
      "source": [
        "train.groupby(\"city\")['total (R$)'].mean()\n",
        "train.groupby(\"city\")['total (R$)'].mean().plot(kind=\"bar\")"
      ],
      "execution_count": 51,
      "outputs": [
        {
          "output_type": "execute_result",
          "data": {
            "text/plain": [
              "<matplotlib.axes._subplots.AxesSubplot at 0x7fa92c474c88>"
            ]
          },
          "metadata": {
            "tags": []
          },
          "execution_count": 51
        },
        {
          "output_type": "display_data",
          "data": {
            "image/png": "[encoded data removed]",
            "text/plain": [
              "<Figure size 432x288 with 1 Axes>"
            ]
          },
          "metadata": {
            "tags": [],
            "needs_background": "light"
          }
        }
      ]
    },
    {
      "cell_type": "code",
      "metadata": {
        "id": "NREv1-XK5phs",
        "colab_type": "code",
        "colab": {
          "base_uri": "https://localhost:8080/",
          "height": 136
        },
        "outputId": "5fa9de56-28b8-4017-e468-72e33ce6dfeb"
      },
      "source": [
        "X = train[['city','area','rooms','bathroom','parking spaces','floor','hoa (R$)','property tax (R$)','fire insurance (R$)','total (R$)']].values\n",
        "X"
      ],
      "execution_count": 81,
      "outputs": [
        {
          "output_type": "execute_result",
          "data": {
            "text/plain": [
              "array([[    4,    70,     2, ...,   211,    42,  5618],\n",
              "       [    4,   320,     4, ...,  1750,    63,  7973],\n",
              "       [    2,    80,     1, ...,     0,    41,  3841],\n",
              "       ...,\n",
              "       [    4,   550,     4, ...,  1917,   178, 19300],\n",
              "       [    4,   384,     3, ...,  1050,   151, 11200],\n",
              "       [    2,    48,     1, ...,    21,    11,  1032]])"
            ]
          },
          "metadata": {
            "tags": []
          },
          "execution_count": 81
        }
      ]
    },
    {
      "cell_type": "code",
      "metadata": {
        "id": "AvzNlphJ6Oqc",
        "colab_type": "code",
        "colab": {
          "base_uri": "https://localhost:8080/",
          "height": 34
        },
        "outputId": "73fe43d6-49df-4bf0-b867-9c0bde904c32"
      },
      "source": [
        "y = dfle['rent amount (R$)'].values\n",
        "y\n"
      ],
      "execution_count": 75,
      "outputs": [
        {
          "output_type": "execute_result",
          "data": {
            "text/plain": [
              "array([ 3300,  4960,  2800, ..., 14000, 10000,   750])"
            ]
          },
          "metadata": {
            "tags": []
          },
          "execution_count": 75
        }
      ]
    },
    {
      "cell_type": "code",
      "metadata": {
        "id": "NH-nuAR6_ljd",
        "colab_type": "code",
        "colab": {
          "base_uri": "https://localhost:8080/",
          "height": 419
        },
        "outputId": "f058a85e-3f1c-45aa-ef33-e31da8a10aaf"
      },
      "source": [
        "dummies = pd.get_dummies(train.city)\n",
        "dummies"
      ],
      "execution_count": 76,
      "outputs": [
        {
          "output_type": "execute_result",
          "data": {
            "text/html": [
              "<div>\n",
              "<style scoped>\n",
              "    .dataframe tbody tr th:only-of-type {\n",
              "        vertical-align: middle;\n",
              "    }\n",
              "\n",
              "    .dataframe tbody tr th {\n",
              "        vertical-align: top;\n",
              "    }\n",
              "\n",
              "    .dataframe thead th {\n",
              "        text-align: right;\n",
              "    }\n",
              "</style>\n",
              "<table border=\"1\" class=\"dataframe\">\n",
              "  <thead>\n",
              "    <tr style=\"text-align: right;\">\n",
              "      <th></th>\n",
              "      <th>0</th>\n",
              "      <th>1</th>\n",
              "      <th>2</th>\n",
              "      <th>3</th>\n",
              "      <th>4</th>\n",
              "    </tr>\n",
              "  </thead>\n",
              "  <tbody>\n",
              "    <tr>\n",
              "      <th>0</th>\n",
              "      <td>0</td>\n",
              "      <td>0</td>\n",
              "      <td>0</td>\n",
              "      <td>0</td>\n",
              "      <td>1</td>\n",
              "    </tr>\n",
              "    <tr>\n",
              "      <th>1</th>\n",
              "      <td>0</td>\n",
              "      <td>0</td>\n",
              "      <td>0</td>\n",
              "      <td>0</td>\n",
              "      <td>1</td>\n",
              "    </tr>\n",
              "    <tr>\n",
              "      <th>2</th>\n",
              "      <td>0</td>\n",
              "      <td>0</td>\n",
              "      <td>1</td>\n",
              "      <td>0</td>\n",
              "      <td>0</td>\n",
              "    </tr>\n",
              "    <tr>\n",
              "      <th>3</th>\n",
              "      <td>0</td>\n",
              "      <td>0</td>\n",
              "      <td>1</td>\n",
              "      <td>0</td>\n",
              "      <td>0</td>\n",
              "    </tr>\n",
              "    <tr>\n",
              "      <th>4</th>\n",
              "      <td>0</td>\n",
              "      <td>0</td>\n",
              "      <td>0</td>\n",
              "      <td>0</td>\n",
              "      <td>1</td>\n",
              "    </tr>\n",
              "    <tr>\n",
              "      <th>...</th>\n",
              "      <td>...</td>\n",
              "      <td>...</td>\n",
              "      <td>...</td>\n",
              "      <td>...</td>\n",
              "      <td>...</td>\n",
              "    </tr>\n",
              "    <tr>\n",
              "      <th>9995</th>\n",
              "      <td>1</td>\n",
              "      <td>0</td>\n",
              "      <td>0</td>\n",
              "      <td>0</td>\n",
              "      <td>0</td>\n",
              "    </tr>\n",
              "    <tr>\n",
              "      <th>9996</th>\n",
              "      <td>0</td>\n",
              "      <td>0</td>\n",
              "      <td>0</td>\n",
              "      <td>0</td>\n",
              "      <td>1</td>\n",
              "    </tr>\n",
              "    <tr>\n",
              "      <th>9997</th>\n",
              "      <td>0</td>\n",
              "      <td>0</td>\n",
              "      <td>0</td>\n",
              "      <td>0</td>\n",
              "      <td>1</td>\n",
              "    </tr>\n",
              "    <tr>\n",
              "      <th>9998</th>\n",
              "      <td>0</td>\n",
              "      <td>0</td>\n",
              "      <td>0</td>\n",
              "      <td>0</td>\n",
              "      <td>1</td>\n",
              "    </tr>\n",
              "    <tr>\n",
              "      <th>9999</th>\n",
              "      <td>0</td>\n",
              "      <td>0</td>\n",
              "      <td>1</td>\n",
              "      <td>0</td>\n",
              "      <td>0</td>\n",
              "    </tr>\n",
              "  </tbody>\n",
              "</table>\n",
              "<p>10000 rows × 5 columns</p>\n",
              "</div>"
            ],
            "text/plain": [
              "      0  1  2  3  4\n",
              "0     0  0  0  0  1\n",
              "1     0  0  0  0  1\n",
              "2     0  0  1  0  0\n",
              "3     0  0  1  0  0\n",
              "4     0  0  0  0  1\n",
              "...  .. .. .. .. ..\n",
              "9995  1  0  0  0  0\n",
              "9996  0  0  0  0  1\n",
              "9997  0  0  0  0  1\n",
              "9998  0  0  0  0  1\n",
              "9999  0  0  1  0  0\n",
              "\n",
              "[10000 rows x 5 columns]"
            ]
          },
          "metadata": {
            "tags": []
          },
          "execution_count": 76
        }
      ]
    },
    {
      "cell_type": "code",
      "metadata": {
        "id": "-hn8D8dzD9yC",
        "colab_type": "code",
        "colab": {
          "base_uri": "https://localhost:8080/",
          "height": 419
        },
        "outputId": "eee5999d-33e7-408f-c9a8-5f11aa20d95f"
      },
      "source": [
        "dummies1 = pd.get_dummies(test.city)\n",
        "dummies"
      ],
      "execution_count": 101,
      "outputs": [
        {
          "output_type": "execute_result",
          "data": {
            "text/html": [
              "<div>\n",
              "<style scoped>\n",
              "    .dataframe tbody tr th:only-of-type {\n",
              "        vertical-align: middle;\n",
              "    }\n",
              "\n",
              "    .dataframe tbody tr th {\n",
              "        vertical-align: top;\n",
              "    }\n",
              "\n",
              "    .dataframe thead th {\n",
              "        text-align: right;\n",
              "    }\n",
              "</style>\n",
              "<table border=\"1\" class=\"dataframe\">\n",
              "  <thead>\n",
              "    <tr style=\"text-align: right;\">\n",
              "      <th></th>\n",
              "      <th>0</th>\n",
              "      <th>1</th>\n",
              "      <th>2</th>\n",
              "      <th>3</th>\n",
              "      <th>4</th>\n",
              "    </tr>\n",
              "  </thead>\n",
              "  <tbody>\n",
              "    <tr>\n",
              "      <th>0</th>\n",
              "      <td>0</td>\n",
              "      <td>0</td>\n",
              "      <td>0</td>\n",
              "      <td>0</td>\n",
              "      <td>1</td>\n",
              "    </tr>\n",
              "    <tr>\n",
              "      <th>1</th>\n",
              "      <td>0</td>\n",
              "      <td>0</td>\n",
              "      <td>0</td>\n",
              "      <td>0</td>\n",
              "      <td>1</td>\n",
              "    </tr>\n",
              "    <tr>\n",
              "      <th>2</th>\n",
              "      <td>0</td>\n",
              "      <td>0</td>\n",
              "      <td>1</td>\n",
              "      <td>0</td>\n",
              "      <td>0</td>\n",
              "    </tr>\n",
              "    <tr>\n",
              "      <th>3</th>\n",
              "      <td>0</td>\n",
              "      <td>0</td>\n",
              "      <td>1</td>\n",
              "      <td>0</td>\n",
              "      <td>0</td>\n",
              "    </tr>\n",
              "    <tr>\n",
              "      <th>4</th>\n",
              "      <td>0</td>\n",
              "      <td>0</td>\n",
              "      <td>0</td>\n",
              "      <td>0</td>\n",
              "      <td>1</td>\n",
              "    </tr>\n",
              "    <tr>\n",
              "      <th>...</th>\n",
              "      <td>...</td>\n",
              "      <td>...</td>\n",
              "      <td>...</td>\n",
              "      <td>...</td>\n",
              "      <td>...</td>\n",
              "    </tr>\n",
              "    <tr>\n",
              "      <th>9995</th>\n",
              "      <td>1</td>\n",
              "      <td>0</td>\n",
              "      <td>0</td>\n",
              "      <td>0</td>\n",
              "      <td>0</td>\n",
              "    </tr>\n",
              "    <tr>\n",
              "      <th>9996</th>\n",
              "      <td>0</td>\n",
              "      <td>0</td>\n",
              "      <td>0</td>\n",
              "      <td>0</td>\n",
              "      <td>1</td>\n",
              "    </tr>\n",
              "    <tr>\n",
              "      <th>9997</th>\n",
              "      <td>0</td>\n",
              "      <td>0</td>\n",
              "      <td>0</td>\n",
              "      <td>0</td>\n",
              "      <td>1</td>\n",
              "    </tr>\n",
              "    <tr>\n",
              "      <th>9998</th>\n",
              "      <td>0</td>\n",
              "      <td>0</td>\n",
              "      <td>0</td>\n",
              "      <td>0</td>\n",
              "      <td>1</td>\n",
              "    </tr>\n",
              "    <tr>\n",
              "      <th>9999</th>\n",
              "      <td>0</td>\n",
              "      <td>0</td>\n",
              "      <td>1</td>\n",
              "      <td>0</td>\n",
              "      <td>0</td>\n",
              "    </tr>\n",
              "  </tbody>\n",
              "</table>\n",
              "<p>10000 rows × 5 columns</p>\n",
              "</div>"
            ],
            "text/plain": [
              "      0  1  2  3  4\n",
              "0     0  0  0  0  1\n",
              "1     0  0  0  0  1\n",
              "2     0  0  1  0  0\n",
              "3     0  0  1  0  0\n",
              "4     0  0  0  0  1\n",
              "...  .. .. .. .. ..\n",
              "9995  1  0  0  0  0\n",
              "9996  0  0  0  0  1\n",
              "9997  0  0  0  0  1\n",
              "9998  0  0  0  0  1\n",
              "9999  0  0  1  0  0\n",
              "\n",
              "[10000 rows x 5 columns]"
            ]
          },
          "metadata": {
            "tags": []
          },
          "execution_count": 101
        }
      ]
    },
    {
      "cell_type": "code",
      "metadata": {
        "id": "cjDRJYBS_w3z",
        "colab_type": "code",
        "colab": {
          "base_uri": "https://localhost:8080/",
          "height": 436
        },
        "outputId": "49b7cf2e-c7b4-4f81-814b-06dfd9de54a2"
      },
      "source": [
        "df_dummies= pd.concat([train,dummies],axis='columns')\n",
        "df_dummies"
      ],
      "execution_count": 77,
      "outputs": [
        {
          "output_type": "execute_result",
          "data": {
            "text/html": [
              "<div>\n",
              "<style scoped>\n",
              "    .dataframe tbody tr th:only-of-type {\n",
              "        vertical-align: middle;\n",
              "    }\n",
              "\n",
              "    .dataframe tbody tr th {\n",
              "        vertical-align: top;\n",
              "    }\n",
              "\n",
              "    .dataframe thead th {\n",
              "        text-align: right;\n",
              "    }\n",
              "</style>\n",
              "<table border=\"1\" class=\"dataframe\">\n",
              "  <thead>\n",
              "    <tr style=\"text-align: right;\">\n",
              "      <th></th>\n",
              "      <th>city</th>\n",
              "      <th>area</th>\n",
              "      <th>rooms</th>\n",
              "      <th>bathroom</th>\n",
              "      <th>parking spaces</th>\n",
              "      <th>floor</th>\n",
              "      <th>hoa (R$)</th>\n",
              "      <th>rent amount (R$)</th>\n",
              "      <th>property tax (R$)</th>\n",
              "      <th>fire insurance (R$)</th>\n",
              "      <th>total (R$)</th>\n",
              "      <th>0</th>\n",
              "      <th>1</th>\n",
              "      <th>2</th>\n",
              "      <th>3</th>\n",
              "      <th>4</th>\n",
              "    </tr>\n",
              "  </thead>\n",
              "  <tbody>\n",
              "    <tr>\n",
              "      <th>0</th>\n",
              "      <td>4</td>\n",
              "      <td>70</td>\n",
              "      <td>2</td>\n",
              "      <td>1</td>\n",
              "      <td>1</td>\n",
              "      <td>7</td>\n",
              "      <td>2065</td>\n",
              "      <td>3300</td>\n",
              "      <td>211</td>\n",
              "      <td>42</td>\n",
              "      <td>5618</td>\n",
              "      <td>0</td>\n",
              "      <td>0</td>\n",
              "      <td>0</td>\n",
              "      <td>0</td>\n",
              "      <td>1</td>\n",
              "    </tr>\n",
              "    <tr>\n",
              "      <th>1</th>\n",
              "      <td>4</td>\n",
              "      <td>320</td>\n",
              "      <td>4</td>\n",
              "      <td>4</td>\n",
              "      <td>0</td>\n",
              "      <td>20</td>\n",
              "      <td>1200</td>\n",
              "      <td>4960</td>\n",
              "      <td>1750</td>\n",
              "      <td>63</td>\n",
              "      <td>7973</td>\n",
              "      <td>0</td>\n",
              "      <td>0</td>\n",
              "      <td>0</td>\n",
              "      <td>0</td>\n",
              "      <td>1</td>\n",
              "    </tr>\n",
              "    <tr>\n",
              "      <th>2</th>\n",
              "      <td>2</td>\n",
              "      <td>80</td>\n",
              "      <td>1</td>\n",
              "      <td>1</td>\n",
              "      <td>1</td>\n",
              "      <td>6</td>\n",
              "      <td>1000</td>\n",
              "      <td>2800</td>\n",
              "      <td>0</td>\n",
              "      <td>41</td>\n",
              "      <td>3841</td>\n",
              "      <td>0</td>\n",
              "      <td>0</td>\n",
              "      <td>1</td>\n",
              "      <td>0</td>\n",
              "      <td>0</td>\n",
              "    </tr>\n",
              "    <tr>\n",
              "      <th>3</th>\n",
              "      <td>2</td>\n",
              "      <td>51</td>\n",
              "      <td>2</td>\n",
              "      <td>1</td>\n",
              "      <td>0</td>\n",
              "      <td>2</td>\n",
              "      <td>270</td>\n",
              "      <td>1112</td>\n",
              "      <td>22</td>\n",
              "      <td>17</td>\n",
              "      <td>1421</td>\n",
              "      <td>0</td>\n",
              "      <td>0</td>\n",
              "      <td>1</td>\n",
              "      <td>0</td>\n",
              "      <td>0</td>\n",
              "    </tr>\n",
              "    <tr>\n",
              "      <th>4</th>\n",
              "      <td>4</td>\n",
              "      <td>25</td>\n",
              "      <td>1</td>\n",
              "      <td>1</td>\n",
              "      <td>0</td>\n",
              "      <td>1</td>\n",
              "      <td>0</td>\n",
              "      <td>800</td>\n",
              "      <td>25</td>\n",
              "      <td>11</td>\n",
              "      <td>836</td>\n",
              "      <td>0</td>\n",
              "      <td>0</td>\n",
              "      <td>0</td>\n",
              "      <td>0</td>\n",
              "      <td>1</td>\n",
              "    </tr>\n",
              "    <tr>\n",
              "      <th>...</th>\n",
              "      <td>...</td>\n",
              "      <td>...</td>\n",
              "      <td>...</td>\n",
              "      <td>...</td>\n",
              "      <td>...</td>\n",
              "      <td>...</td>\n",
              "      <td>...</td>\n",
              "      <td>...</td>\n",
              "      <td>...</td>\n",
              "      <td>...</td>\n",
              "      <td>...</td>\n",
              "      <td>...</td>\n",
              "      <td>...</td>\n",
              "      <td>...</td>\n",
              "      <td>...</td>\n",
              "      <td>...</td>\n",
              "    </tr>\n",
              "    <tr>\n",
              "      <th>9995</th>\n",
              "      <td>0</td>\n",
              "      <td>386</td>\n",
              "      <td>3</td>\n",
              "      <td>4</td>\n",
              "      <td>8</td>\n",
              "      <td>0</td>\n",
              "      <td>0</td>\n",
              "      <td>6500</td>\n",
              "      <td>730</td>\n",
              "      <td>107</td>\n",
              "      <td>7337</td>\n",
              "      <td>1</td>\n",
              "      <td>0</td>\n",
              "      <td>0</td>\n",
              "      <td>0</td>\n",
              "      <td>0</td>\n",
              "    </tr>\n",
              "    <tr>\n",
              "      <th>9996</th>\n",
              "      <td>4</td>\n",
              "      <td>19</td>\n",
              "      <td>1</td>\n",
              "      <td>1</td>\n",
              "      <td>0</td>\n",
              "      <td>0</td>\n",
              "      <td>0</td>\n",
              "      <td>1200</td>\n",
              "      <td>41</td>\n",
              "      <td>16</td>\n",
              "      <td>1257</td>\n",
              "      <td>0</td>\n",
              "      <td>0</td>\n",
              "      <td>0</td>\n",
              "      <td>0</td>\n",
              "      <td>1</td>\n",
              "    </tr>\n",
              "    <tr>\n",
              "      <th>9997</th>\n",
              "      <td>4</td>\n",
              "      <td>550</td>\n",
              "      <td>4</td>\n",
              "      <td>6</td>\n",
              "      <td>4</td>\n",
              "      <td>1</td>\n",
              "      <td>3200</td>\n",
              "      <td>14000</td>\n",
              "      <td>1917</td>\n",
              "      <td>178</td>\n",
              "      <td>19300</td>\n",
              "      <td>0</td>\n",
              "      <td>0</td>\n",
              "      <td>0</td>\n",
              "      <td>0</td>\n",
              "      <td>1</td>\n",
              "    </tr>\n",
              "    <tr>\n",
              "      <th>9998</th>\n",
              "      <td>4</td>\n",
              "      <td>384</td>\n",
              "      <td>3</td>\n",
              "      <td>5</td>\n",
              "      <td>3</td>\n",
              "      <td>0</td>\n",
              "      <td>0</td>\n",
              "      <td>10000</td>\n",
              "      <td>1050</td>\n",
              "      <td>151</td>\n",
              "      <td>11200</td>\n",
              "      <td>0</td>\n",
              "      <td>0</td>\n",
              "      <td>0</td>\n",
              "      <td>0</td>\n",
              "      <td>1</td>\n",
              "    </tr>\n",
              "    <tr>\n",
              "      <th>9999</th>\n",
              "      <td>2</td>\n",
              "      <td>48</td>\n",
              "      <td>1</td>\n",
              "      <td>1</td>\n",
              "      <td>0</td>\n",
              "      <td>4</td>\n",
              "      <td>250</td>\n",
              "      <td>750</td>\n",
              "      <td>21</td>\n",
              "      <td>11</td>\n",
              "      <td>1032</td>\n",
              "      <td>0</td>\n",
              "      <td>0</td>\n",
              "      <td>1</td>\n",
              "      <td>0</td>\n",
              "      <td>0</td>\n",
              "    </tr>\n",
              "  </tbody>\n",
              "</table>\n",
              "<p>10000 rows × 16 columns</p>\n",
              "</div>"
            ],
            "text/plain": [
              "      city  area  rooms  bathroom  parking spaces  ...  0  1  2  3  4\n",
              "0        4    70      2         1               1  ...  0  0  0  0  1\n",
              "1        4   320      4         4               0  ...  0  0  0  0  1\n",
              "2        2    80      1         1               1  ...  0  0  1  0  0\n",
              "3        2    51      2         1               0  ...  0  0  1  0  0\n",
              "4        4    25      1         1               0  ...  0  0  0  0  1\n",
              "...    ...   ...    ...       ...             ...  ... .. .. .. .. ..\n",
              "9995     0   386      3         4               8  ...  1  0  0  0  0\n",
              "9996     4    19      1         1               0  ...  0  0  0  0  1\n",
              "9997     4   550      4         6               4  ...  0  0  0  0  1\n",
              "9998     4   384      3         5               3  ...  0  0  0  0  1\n",
              "9999     2    48      1         1               0  ...  0  0  1  0  0\n",
              "\n",
              "[10000 rows x 16 columns]"
            ]
          },
          "metadata": {
            "tags": []
          },
          "execution_count": 77
        }
      ]
    },
    {
      "cell_type": "code",
      "metadata": {
        "id": "4ylJ7gBYEFPm",
        "colab_type": "code",
        "colab": {
          "base_uri": "https://localhost:8080/",
          "height": 623
        },
        "outputId": "37ff75f1-0963-4969-91c2-38187db9ab0a"
      },
      "source": [
        "df_dummies1= pd.concat([test,dummies1],axis='columns')\n",
        "df_dummies1"
      ],
      "execution_count": 103,
      "outputs": [
        {
          "output_type": "execute_result",
          "data": {
            "text/html": [
              "<div>\n",
              "<style scoped>\n",
              "    .dataframe tbody tr th:only-of-type {\n",
              "        vertical-align: middle;\n",
              "    }\n",
              "\n",
              "    .dataframe tbody tr th {\n",
              "        vertical-align: top;\n",
              "    }\n",
              "\n",
              "    .dataframe thead th {\n",
              "        text-align: right;\n",
              "    }\n",
              "</style>\n",
              "<table border=\"1\" class=\"dataframe\">\n",
              "  <thead>\n",
              "    <tr style=\"text-align: right;\">\n",
              "      <th></th>\n",
              "      <th>city</th>\n",
              "      <th>area</th>\n",
              "      <th>rooms</th>\n",
              "      <th>bathroom</th>\n",
              "      <th>parking spaces</th>\n",
              "      <th>floor</th>\n",
              "      <th>hoa (R$)</th>\n",
              "      <th>rent amount (R$)</th>\n",
              "      <th>property tax (R$)</th>\n",
              "      <th>fire insurance (R$)</th>\n",
              "      <th>total (R$)</th>\n",
              "      <th>Belo Horizonte</th>\n",
              "      <th>Campinas</th>\n",
              "      <th>Porto Alegre</th>\n",
              "      <th>Rio de Janeiro</th>\n",
              "      <th>São Paulo</th>\n",
              "    </tr>\n",
              "  </thead>\n",
              "  <tbody>\n",
              "    <tr>\n",
              "      <th>10000</th>\n",
              "      <td>São Paulo</td>\n",
              "      <td>98</td>\n",
              "      <td>2</td>\n",
              "      <td>1</td>\n",
              "      <td>1</td>\n",
              "      <td>4</td>\n",
              "      <td>1028</td>\n",
              "      <td>3080</td>\n",
              "      <td>129</td>\n",
              "      <td>40</td>\n",
              "      <td>4277</td>\n",
              "      <td>0</td>\n",
              "      <td>0</td>\n",
              "      <td>0</td>\n",
              "      <td>0</td>\n",
              "      <td>1</td>\n",
              "    </tr>\n",
              "    <tr>\n",
              "      <th>10001</th>\n",
              "      <td>Belo Horizonte</td>\n",
              "      <td>50</td>\n",
              "      <td>2</td>\n",
              "      <td>1</td>\n",
              "      <td>1</td>\n",
              "      <td>1</td>\n",
              "      <td>300</td>\n",
              "      <td>1100</td>\n",
              "      <td>68</td>\n",
              "      <td>15</td>\n",
              "      <td>1483</td>\n",
              "      <td>1</td>\n",
              "      <td>0</td>\n",
              "      <td>0</td>\n",
              "      <td>0</td>\n",
              "      <td>0</td>\n",
              "    </tr>\n",
              "    <tr>\n",
              "      <th>10002</th>\n",
              "      <td>São Paulo</td>\n",
              "      <td>53</td>\n",
              "      <td>2</td>\n",
              "      <td>2</td>\n",
              "      <td>1</td>\n",
              "      <td>9</td>\n",
              "      <td>722</td>\n",
              "      <td>2100</td>\n",
              "      <td>0</td>\n",
              "      <td>27</td>\n",
              "      <td>2849</td>\n",
              "      <td>0</td>\n",
              "      <td>0</td>\n",
              "      <td>0</td>\n",
              "      <td>0</td>\n",
              "      <td>1</td>\n",
              "    </tr>\n",
              "    <tr>\n",
              "      <th>10003</th>\n",
              "      <td>São Paulo</td>\n",
              "      <td>32</td>\n",
              "      <td>1</td>\n",
              "      <td>1</td>\n",
              "      <td>0</td>\n",
              "      <td>1</td>\n",
              "      <td>400</td>\n",
              "      <td>1990</td>\n",
              "      <td>0</td>\n",
              "      <td>26</td>\n",
              "      <td>2416</td>\n",
              "      <td>0</td>\n",
              "      <td>0</td>\n",
              "      <td>0</td>\n",
              "      <td>0</td>\n",
              "      <td>1</td>\n",
              "    </tr>\n",
              "    <tr>\n",
              "      <th>10004</th>\n",
              "      <td>São Paulo</td>\n",
              "      <td>47</td>\n",
              "      <td>1</td>\n",
              "      <td>2</td>\n",
              "      <td>1</td>\n",
              "      <td>11</td>\n",
              "      <td>740</td>\n",
              "      <td>3200</td>\n",
              "      <td>150</td>\n",
              "      <td>41</td>\n",
              "      <td>4131</td>\n",
              "      <td>0</td>\n",
              "      <td>0</td>\n",
              "      <td>0</td>\n",
              "      <td>0</td>\n",
              "      <td>1</td>\n",
              "    </tr>\n",
              "    <tr>\n",
              "      <th>...</th>\n",
              "      <td>...</td>\n",
              "      <td>...</td>\n",
              "      <td>...</td>\n",
              "      <td>...</td>\n",
              "      <td>...</td>\n",
              "      <td>...</td>\n",
              "      <td>...</td>\n",
              "      <td>...</td>\n",
              "      <td>...</td>\n",
              "      <td>...</td>\n",
              "      <td>...</td>\n",
              "      <td>...</td>\n",
              "      <td>...</td>\n",
              "      <td>...</td>\n",
              "      <td>...</td>\n",
              "      <td>...</td>\n",
              "    </tr>\n",
              "    <tr>\n",
              "      <th>10687</th>\n",
              "      <td>Porto Alegre</td>\n",
              "      <td>63</td>\n",
              "      <td>2</td>\n",
              "      <td>1</td>\n",
              "      <td>1</td>\n",
              "      <td>5</td>\n",
              "      <td>402</td>\n",
              "      <td>1478</td>\n",
              "      <td>24</td>\n",
              "      <td>22</td>\n",
              "      <td>1926</td>\n",
              "      <td>0</td>\n",
              "      <td>0</td>\n",
              "      <td>1</td>\n",
              "      <td>0</td>\n",
              "      <td>0</td>\n",
              "    </tr>\n",
              "    <tr>\n",
              "      <th>10688</th>\n",
              "      <td>São Paulo</td>\n",
              "      <td>285</td>\n",
              "      <td>4</td>\n",
              "      <td>4</td>\n",
              "      <td>4</td>\n",
              "      <td>17</td>\n",
              "      <td>3100</td>\n",
              "      <td>15000</td>\n",
              "      <td>973</td>\n",
              "      <td>191</td>\n",
              "      <td>19260</td>\n",
              "      <td>0</td>\n",
              "      <td>0</td>\n",
              "      <td>0</td>\n",
              "      <td>0</td>\n",
              "      <td>1</td>\n",
              "    </tr>\n",
              "    <tr>\n",
              "      <th>10689</th>\n",
              "      <td>Rio de Janeiro</td>\n",
              "      <td>70</td>\n",
              "      <td>3</td>\n",
              "      <td>3</td>\n",
              "      <td>0</td>\n",
              "      <td>8</td>\n",
              "      <td>980</td>\n",
              "      <td>6000</td>\n",
              "      <td>332</td>\n",
              "      <td>78</td>\n",
              "      <td>7390</td>\n",
              "      <td>0</td>\n",
              "      <td>0</td>\n",
              "      <td>0</td>\n",
              "      <td>1</td>\n",
              "      <td>0</td>\n",
              "    </tr>\n",
              "    <tr>\n",
              "      <th>10690</th>\n",
              "      <td>Rio de Janeiro</td>\n",
              "      <td>120</td>\n",
              "      <td>2</td>\n",
              "      <td>2</td>\n",
              "      <td>2</td>\n",
              "      <td>8</td>\n",
              "      <td>1585</td>\n",
              "      <td>12000</td>\n",
              "      <td>279</td>\n",
              "      <td>155</td>\n",
              "      <td>14020</td>\n",
              "      <td>0</td>\n",
              "      <td>0</td>\n",
              "      <td>0</td>\n",
              "      <td>1</td>\n",
              "      <td>0</td>\n",
              "    </tr>\n",
              "    <tr>\n",
              "      <th>10691</th>\n",
              "      <td>São Paulo</td>\n",
              "      <td>80</td>\n",
              "      <td>2</td>\n",
              "      <td>1</td>\n",
              "      <td>0</td>\n",
              "      <td>0</td>\n",
              "      <td>0</td>\n",
              "      <td>1400</td>\n",
              "      <td>165</td>\n",
              "      <td>22</td>\n",
              "      <td>1587</td>\n",
              "      <td>0</td>\n",
              "      <td>0</td>\n",
              "      <td>0</td>\n",
              "      <td>0</td>\n",
              "      <td>1</td>\n",
              "    </tr>\n",
              "  </tbody>\n",
              "</table>\n",
              "<p>692 rows × 16 columns</p>\n",
              "</div>"
            ],
            "text/plain": [
              "                 city  area  rooms  ...  Porto Alegre  Rio de Janeiro  São Paulo\n",
              "10000       São Paulo    98      2  ...             0               0          1\n",
              "10001  Belo Horizonte    50      2  ...             0               0          0\n",
              "10002       São Paulo    53      2  ...             0               0          1\n",
              "10003       São Paulo    32      1  ...             0               0          1\n",
              "10004       São Paulo    47      1  ...             0               0          1\n",
              "...               ...   ...    ...  ...           ...             ...        ...\n",
              "10687    Porto Alegre    63      2  ...             1               0          0\n",
              "10688       São Paulo   285      4  ...             0               0          1\n",
              "10689  Rio de Janeiro    70      3  ...             0               1          0\n",
              "10690  Rio de Janeiro   120      2  ...             0               1          0\n",
              "10691       São Paulo    80      2  ...             0               0          1\n",
              "\n",
              "[692 rows x 16 columns]"
            ]
          },
          "metadata": {
            "tags": []
          },
          "execution_count": 103
        }
      ]
    },
    {
      "cell_type": "code",
      "metadata": {
        "id": "KziFh63FD69r",
        "colab_type": "code",
        "colab": {}
      },
      "source": [
        ""
      ],
      "execution_count": 0,
      "outputs": []
    },
    {
      "cell_type": "code",
      "metadata": {
        "id": "8yl0zmGI_4ft",
        "colab_type": "code",
        "colab": {
          "base_uri": "https://localhost:8080/",
          "height": 436
        },
        "outputId": "8be43963-2527-484b-d096-567d7a3c99c4"
      },
      "source": [
        "df_dummies.drop('city',axis='columns',inplace=True)\n",
        "df_dummies"
      ],
      "execution_count": 82,
      "outputs": [
        {
          "output_type": "execute_result",
          "data": {
            "text/html": [
              "<div>\n",
              "<style scoped>\n",
              "    .dataframe tbody tr th:only-of-type {\n",
              "        vertical-align: middle;\n",
              "    }\n",
              "\n",
              "    .dataframe tbody tr th {\n",
              "        vertical-align: top;\n",
              "    }\n",
              "\n",
              "    .dataframe thead th {\n",
              "        text-align: right;\n",
              "    }\n",
              "</style>\n",
              "<table border=\"1\" class=\"dataframe\">\n",
              "  <thead>\n",
              "    <tr style=\"text-align: right;\">\n",
              "      <th></th>\n",
              "      <th>area</th>\n",
              "      <th>rooms</th>\n",
              "      <th>bathroom</th>\n",
              "      <th>parking spaces</th>\n",
              "      <th>floor</th>\n",
              "      <th>hoa (R$)</th>\n",
              "      <th>rent amount (R$)</th>\n",
              "      <th>property tax (R$)</th>\n",
              "      <th>fire insurance (R$)</th>\n",
              "      <th>total (R$)</th>\n",
              "      <th>0</th>\n",
              "      <th>1</th>\n",
              "      <th>2</th>\n",
              "      <th>3</th>\n",
              "      <th>4</th>\n",
              "    </tr>\n",
              "  </thead>\n",
              "  <tbody>\n",
              "    <tr>\n",
              "      <th>0</th>\n",
              "      <td>70</td>\n",
              "      <td>2</td>\n",
              "      <td>1</td>\n",
              "      <td>1</td>\n",
              "      <td>7</td>\n",
              "      <td>2065</td>\n",
              "      <td>3300</td>\n",
              "      <td>211</td>\n",
              "      <td>42</td>\n",
              "      <td>5618</td>\n",
              "      <td>0</td>\n",
              "      <td>0</td>\n",
              "      <td>0</td>\n",
              "      <td>0</td>\n",
              "      <td>1</td>\n",
              "    </tr>\n",
              "    <tr>\n",
              "      <th>1</th>\n",
              "      <td>320</td>\n",
              "      <td>4</td>\n",
              "      <td>4</td>\n",
              "      <td>0</td>\n",
              "      <td>20</td>\n",
              "      <td>1200</td>\n",
              "      <td>4960</td>\n",
              "      <td>1750</td>\n",
              "      <td>63</td>\n",
              "      <td>7973</td>\n",
              "      <td>0</td>\n",
              "      <td>0</td>\n",
              "      <td>0</td>\n",
              "      <td>0</td>\n",
              "      <td>1</td>\n",
              "    </tr>\n",
              "    <tr>\n",
              "      <th>2</th>\n",
              "      <td>80</td>\n",
              "      <td>1</td>\n",
              "      <td>1</td>\n",
              "      <td>1</td>\n",
              "      <td>6</td>\n",
              "      <td>1000</td>\n",
              "      <td>2800</td>\n",
              "      <td>0</td>\n",
              "      <td>41</td>\n",
              "      <td>3841</td>\n",
              "      <td>0</td>\n",
              "      <td>0</td>\n",
              "      <td>1</td>\n",
              "      <td>0</td>\n",
              "      <td>0</td>\n",
              "    </tr>\n",
              "    <tr>\n",
              "      <th>3</th>\n",
              "      <td>51</td>\n",
              "      <td>2</td>\n",
              "      <td>1</td>\n",
              "      <td>0</td>\n",
              "      <td>2</td>\n",
              "      <td>270</td>\n",
              "      <td>1112</td>\n",
              "      <td>22</td>\n",
              "      <td>17</td>\n",
              "      <td>1421</td>\n",
              "      <td>0</td>\n",
              "      <td>0</td>\n",
              "      <td>1</td>\n",
              "      <td>0</td>\n",
              "      <td>0</td>\n",
              "    </tr>\n",
              "    <tr>\n",
              "      <th>4</th>\n",
              "      <td>25</td>\n",
              "      <td>1</td>\n",
              "      <td>1</td>\n",
              "      <td>0</td>\n",
              "      <td>1</td>\n",
              "      <td>0</td>\n",
              "      <td>800</td>\n",
              "      <td>25</td>\n",
              "      <td>11</td>\n",
              "      <td>836</td>\n",
              "      <td>0</td>\n",
              "      <td>0</td>\n",
              "      <td>0</td>\n",
              "      <td>0</td>\n",
              "      <td>1</td>\n",
              "    </tr>\n",
              "    <tr>\n",
              "      <th>...</th>\n",
              "      <td>...</td>\n",
              "      <td>...</td>\n",
              "      <td>...</td>\n",
              "      <td>...</td>\n",
              "      <td>...</td>\n",
              "      <td>...</td>\n",
              "      <td>...</td>\n",
              "      <td>...</td>\n",
              "      <td>...</td>\n",
              "      <td>...</td>\n",
              "      <td>...</td>\n",
              "      <td>...</td>\n",
              "      <td>...</td>\n",
              "      <td>...</td>\n",
              "      <td>...</td>\n",
              "    </tr>\n",
              "    <tr>\n",
              "      <th>9995</th>\n",
              "      <td>386</td>\n",
              "      <td>3</td>\n",
              "      <td>4</td>\n",
              "      <td>8</td>\n",
              "      <td>0</td>\n",
              "      <td>0</td>\n",
              "      <td>6500</td>\n",
              "      <td>730</td>\n",
              "      <td>107</td>\n",
              "      <td>7337</td>\n",
              "      <td>1</td>\n",
              "      <td>0</td>\n",
              "      <td>0</td>\n",
              "      <td>0</td>\n",
              "      <td>0</td>\n",
              "    </tr>\n",
              "    <tr>\n",
              "      <th>9996</th>\n",
              "      <td>19</td>\n",
              "      <td>1</td>\n",
              "      <td>1</td>\n",
              "      <td>0</td>\n",
              "      <td>0</td>\n",
              "      <td>0</td>\n",
              "      <td>1200</td>\n",
              "      <td>41</td>\n",
              "      <td>16</td>\n",
              "      <td>1257</td>\n",
              "      <td>0</td>\n",
              "      <td>0</td>\n",
              "      <td>0</td>\n",
              "      <td>0</td>\n",
              "      <td>1</td>\n",
              "    </tr>\n",
              "    <tr>\n",
              "      <th>9997</th>\n",
              "      <td>550</td>\n",
              "      <td>4</td>\n",
              "      <td>6</td>\n",
              "      <td>4</td>\n",
              "      <td>1</td>\n",
              "      <td>3200</td>\n",
              "      <td>14000</td>\n",
              "      <td>1917</td>\n",
              "      <td>178</td>\n",
              "      <td>19300</td>\n",
              "      <td>0</td>\n",
              "      <td>0</td>\n",
              "      <td>0</td>\n",
              "      <td>0</td>\n",
              "      <td>1</td>\n",
              "    </tr>\n",
              "    <tr>\n",
              "      <th>9998</th>\n",
              "      <td>384</td>\n",
              "      <td>3</td>\n",
              "      <td>5</td>\n",
              "      <td>3</td>\n",
              "      <td>0</td>\n",
              "      <td>0</td>\n",
              "      <td>10000</td>\n",
              "      <td>1050</td>\n",
              "      <td>151</td>\n",
              "      <td>11200</td>\n",
              "      <td>0</td>\n",
              "      <td>0</td>\n",
              "      <td>0</td>\n",
              "      <td>0</td>\n",
              "      <td>1</td>\n",
              "    </tr>\n",
              "    <tr>\n",
              "      <th>9999</th>\n",
              "      <td>48</td>\n",
              "      <td>1</td>\n",
              "      <td>1</td>\n",
              "      <td>0</td>\n",
              "      <td>4</td>\n",
              "      <td>250</td>\n",
              "      <td>750</td>\n",
              "      <td>21</td>\n",
              "      <td>11</td>\n",
              "      <td>1032</td>\n",
              "      <td>0</td>\n",
              "      <td>0</td>\n",
              "      <td>1</td>\n",
              "      <td>0</td>\n",
              "      <td>0</td>\n",
              "    </tr>\n",
              "  </tbody>\n",
              "</table>\n",
              "<p>10000 rows × 15 columns</p>\n",
              "</div>"
            ],
            "text/plain": [
              "      area  rooms  bathroom  parking spaces  floor  ...  0  1  2  3  4\n",
              "0       70      2         1               1      7  ...  0  0  0  0  1\n",
              "1      320      4         4               0     20  ...  0  0  0  0  1\n",
              "2       80      1         1               1      6  ...  0  0  1  0  0\n",
              "3       51      2         1               0      2  ...  0  0  1  0  0\n",
              "4       25      1         1               0      1  ...  0  0  0  0  1\n",
              "...    ...    ...       ...             ...    ...  ... .. .. .. .. ..\n",
              "9995   386      3         4               8      0  ...  1  0  0  0  0\n",
              "9996    19      1         1               0      0  ...  0  0  0  0  1\n",
              "9997   550      4         6               4      1  ...  0  0  0  0  1\n",
              "9998   384      3         5               3      0  ...  0  0  0  0  1\n",
              "9999    48      1         1               0      4  ...  0  0  1  0  0\n",
              "\n",
              "[10000 rows x 15 columns]"
            ]
          },
          "metadata": {
            "tags": []
          },
          "execution_count": 82
        }
      ]
    },
    {
      "cell_type": "code",
      "metadata": {
        "id": "NOYYX2IgEZ5D",
        "colab_type": "code",
        "colab": {
          "base_uri": "https://localhost:8080/",
          "height": 453
        },
        "outputId": "525d95b7-ab07-45b0-8cc2-5eb492a52b4a"
      },
      "source": [
        "df_dummies1.drop('city',axis='columns',inplace=True)\n",
        "df_dummies1"
      ],
      "execution_count": 104,
      "outputs": [
        {
          "output_type": "execute_result",
          "data": {
            "text/html": [
              "<div>\n",
              "<style scoped>\n",
              "    .dataframe tbody tr th:only-of-type {\n",
              "        vertical-align: middle;\n",
              "    }\n",
              "\n",
              "    .dataframe tbody tr th {\n",
              "        vertical-align: top;\n",
              "    }\n",
              "\n",
              "    .dataframe thead th {\n",
              "        text-align: right;\n",
              "    }\n",
              "</style>\n",
              "<table border=\"1\" class=\"dataframe\">\n",
              "  <thead>\n",
              "    <tr style=\"text-align: right;\">\n",
              "      <th></th>\n",
              "      <th>area</th>\n",
              "      <th>rooms</th>\n",
              "      <th>bathroom</th>\n",
              "      <th>parking spaces</th>\n",
              "      <th>floor</th>\n",
              "      <th>hoa (R$)</th>\n",
              "      <th>rent amount (R$)</th>\n",
              "      <th>property tax (R$)</th>\n",
              "      <th>fire insurance (R$)</th>\n",
              "      <th>total (R$)</th>\n",
              "      <th>Belo Horizonte</th>\n",
              "      <th>Campinas</th>\n",
              "      <th>Porto Alegre</th>\n",
              "      <th>Rio de Janeiro</th>\n",
              "      <th>São Paulo</th>\n",
              "    </tr>\n",
              "  </thead>\n",
              "  <tbody>\n",
              "    <tr>\n",
              "      <th>10000</th>\n",
              "      <td>98</td>\n",
              "      <td>2</td>\n",
              "      <td>1</td>\n",
              "      <td>1</td>\n",
              "      <td>4</td>\n",
              "      <td>1028</td>\n",
              "      <td>3080</td>\n",
              "      <td>129</td>\n",
              "      <td>40</td>\n",
              "      <td>4277</td>\n",
              "      <td>0</td>\n",
              "      <td>0</td>\n",
              "      <td>0</td>\n",
              "      <td>0</td>\n",
              "      <td>1</td>\n",
              "    </tr>\n",
              "    <tr>\n",
              "      <th>10001</th>\n",
              "      <td>50</td>\n",
              "      <td>2</td>\n",
              "      <td>1</td>\n",
              "      <td>1</td>\n",
              "      <td>1</td>\n",
              "      <td>300</td>\n",
              "      <td>1100</td>\n",
              "      <td>68</td>\n",
              "      <td>15</td>\n",
              "      <td>1483</td>\n",
              "      <td>1</td>\n",
              "      <td>0</td>\n",
              "      <td>0</td>\n",
              "      <td>0</td>\n",
              "      <td>0</td>\n",
              "    </tr>\n",
              "    <tr>\n",
              "      <th>10002</th>\n",
              "      <td>53</td>\n",
              "      <td>2</td>\n",
              "      <td>2</td>\n",
              "      <td>1</td>\n",
              "      <td>9</td>\n",
              "      <td>722</td>\n",
              "      <td>2100</td>\n",
              "      <td>0</td>\n",
              "      <td>27</td>\n",
              "      <td>2849</td>\n",
              "      <td>0</td>\n",
              "      <td>0</td>\n",
              "      <td>0</td>\n",
              "      <td>0</td>\n",
              "      <td>1</td>\n",
              "    </tr>\n",
              "    <tr>\n",
              "      <th>10003</th>\n",
              "      <td>32</td>\n",
              "      <td>1</td>\n",
              "      <td>1</td>\n",
              "      <td>0</td>\n",
              "      <td>1</td>\n",
              "      <td>400</td>\n",
              "      <td>1990</td>\n",
              "      <td>0</td>\n",
              "      <td>26</td>\n",
              "      <td>2416</td>\n",
              "      <td>0</td>\n",
              "      <td>0</td>\n",
              "      <td>0</td>\n",
              "      <td>0</td>\n",
              "      <td>1</td>\n",
              "    </tr>\n",
              "    <tr>\n",
              "      <th>10004</th>\n",
              "      <td>47</td>\n",
              "      <td>1</td>\n",
              "      <td>2</td>\n",
              "      <td>1</td>\n",
              "      <td>11</td>\n",
              "      <td>740</td>\n",
              "      <td>3200</td>\n",
              "      <td>150</td>\n",
              "      <td>41</td>\n",
              "      <td>4131</td>\n",
              "      <td>0</td>\n",
              "      <td>0</td>\n",
              "      <td>0</td>\n",
              "      <td>0</td>\n",
              "      <td>1</td>\n",
              "    </tr>\n",
              "    <tr>\n",
              "      <th>...</th>\n",
              "      <td>...</td>\n",
              "      <td>...</td>\n",
              "      <td>...</td>\n",
              "      <td>...</td>\n",
              "      <td>...</td>\n",
              "      <td>...</td>\n",
              "      <td>...</td>\n",
              "      <td>...</td>\n",
              "      <td>...</td>\n",
              "      <td>...</td>\n",
              "      <td>...</td>\n",
              "      <td>...</td>\n",
              "      <td>...</td>\n",
              "      <td>...</td>\n",
              "      <td>...</td>\n",
              "    </tr>\n",
              "    <tr>\n",
              "      <th>10687</th>\n",
              "      <td>63</td>\n",
              "      <td>2</td>\n",
              "      <td>1</td>\n",
              "      <td>1</td>\n",
              "      <td>5</td>\n",
              "      <td>402</td>\n",
              "      <td>1478</td>\n",
              "      <td>24</td>\n",
              "      <td>22</td>\n",
              "      <td>1926</td>\n",
              "      <td>0</td>\n",
              "      <td>0</td>\n",
              "      <td>1</td>\n",
              "      <td>0</td>\n",
              "      <td>0</td>\n",
              "    </tr>\n",
              "    <tr>\n",
              "      <th>10688</th>\n",
              "      <td>285</td>\n",
              "      <td>4</td>\n",
              "      <td>4</td>\n",
              "      <td>4</td>\n",
              "      <td>17</td>\n",
              "      <td>3100</td>\n",
              "      <td>15000</td>\n",
              "      <td>973</td>\n",
              "      <td>191</td>\n",
              "      <td>19260</td>\n",
              "      <td>0</td>\n",
              "      <td>0</td>\n",
              "      <td>0</td>\n",
              "      <td>0</td>\n",
              "      <td>1</td>\n",
              "    </tr>\n",
              "    <tr>\n",
              "      <th>10689</th>\n",
              "      <td>70</td>\n",
              "      <td>3</td>\n",
              "      <td>3</td>\n",
              "      <td>0</td>\n",
              "      <td>8</td>\n",
              "      <td>980</td>\n",
              "      <td>6000</td>\n",
              "      <td>332</td>\n",
              "      <td>78</td>\n",
              "      <td>7390</td>\n",
              "      <td>0</td>\n",
              "      <td>0</td>\n",
              "      <td>0</td>\n",
              "      <td>1</td>\n",
              "      <td>0</td>\n",
              "    </tr>\n",
              "    <tr>\n",
              "      <th>10690</th>\n",
              "      <td>120</td>\n",
              "      <td>2</td>\n",
              "      <td>2</td>\n",
              "      <td>2</td>\n",
              "      <td>8</td>\n",
              "      <td>1585</td>\n",
              "      <td>12000</td>\n",
              "      <td>279</td>\n",
              "      <td>155</td>\n",
              "      <td>14020</td>\n",
              "      <td>0</td>\n",
              "      <td>0</td>\n",
              "      <td>0</td>\n",
              "      <td>1</td>\n",
              "      <td>0</td>\n",
              "    </tr>\n",
              "    <tr>\n",
              "      <th>10691</th>\n",
              "      <td>80</td>\n",
              "      <td>2</td>\n",
              "      <td>1</td>\n",
              "      <td>0</td>\n",
              "      <td>0</td>\n",
              "      <td>0</td>\n",
              "      <td>1400</td>\n",
              "      <td>165</td>\n",
              "      <td>22</td>\n",
              "      <td>1587</td>\n",
              "      <td>0</td>\n",
              "      <td>0</td>\n",
              "      <td>0</td>\n",
              "      <td>0</td>\n",
              "      <td>1</td>\n",
              "    </tr>\n",
              "  </tbody>\n",
              "</table>\n",
              "<p>692 rows × 15 columns</p>\n",
              "</div>"
            ],
            "text/plain": [
              "       area  rooms  bathroom  ...  Porto Alegre  Rio de Janeiro  São Paulo\n",
              "10000    98      2         1  ...             0               0          1\n",
              "10001    50      2         1  ...             0               0          0\n",
              "10002    53      2         2  ...             0               0          1\n",
              "10003    32      1         1  ...             0               0          1\n",
              "10004    47      1         2  ...             0               0          1\n",
              "...     ...    ...       ...  ...           ...             ...        ...\n",
              "10687    63      2         1  ...             1               0          0\n",
              "10688   285      4         4  ...             0               0          1\n",
              "10689    70      3         3  ...             0               1          0\n",
              "10690   120      2         2  ...             0               1          0\n",
              "10691    80      2         1  ...             0               0          1\n",
              "\n",
              "[692 rows x 15 columns]"
            ]
          },
          "metadata": {
            "tags": []
          },
          "execution_count": 104
        }
      ]
    },
    {
      "cell_type": "code",
      "metadata": {
        "id": "pjnmPOPwArNd",
        "colab_type": "code",
        "colab": {}
      },
      "source": [
        "\n",
        "X = df_dummies.drop('rent amount (R$)',axis='columns')\n",
        "y = df_dummies['rent amount (R$)']\n",
        "\n"
      ],
      "execution_count": 0,
      "outputs": []
    },
    {
      "cell_type": "code",
      "metadata": {
        "id": "GdB6BE41Egtt",
        "colab_type": "code",
        "colab": {}
      },
      "source": [
        "X_test = df_dummies1.drop('rent amount (R$)',axis='columns')\n",
        "y_test = df_dummies1['rent amount (R$)']"
      ],
      "execution_count": 0,
      "outputs": []
    },
    {
      "cell_type": "code",
      "metadata": {
        "id": "1V-SFlL9AVGa",
        "colab_type": "code",
        "colab": {
          "base_uri": "https://localhost:8080/",
          "height": 34
        },
        "outputId": "8d2442b3-d758-4431-8f7a-f56a8c548fee"
      },
      "source": [
        "from sklearn.linear_model import LinearRegression\n",
        "model = LinearRegression()\n",
        "model.fit(X,y)"
      ],
      "execution_count": 87,
      "outputs": [
        {
          "output_type": "execute_result",
          "data": {
            "text/plain": [
              "LinearRegression(copy_X=True, fit_intercept=True, n_jobs=None, normalize=False)"
            ]
          },
          "metadata": {
            "tags": []
          },
          "execution_count": 87
        }
      ]
    },
    {
      "cell_type": "code",
      "metadata": {
        "id": "9GDH9NLIAcEi",
        "colab_type": "code",
        "colab": {
          "base_uri": "https://localhost:8080/",
          "height": 419
        },
        "outputId": "4f274678-36a9-4463-ab10-179e1cb6741b"
      },
      "source": [
        "X\n"
      ],
      "execution_count": 88,
      "outputs": [
        {
          "output_type": "execute_result",
          "data": {
            "text/html": [
              "<div>\n",
              "<style scoped>\n",
              "    .dataframe tbody tr th:only-of-type {\n",
              "        vertical-align: middle;\n",
              "    }\n",
              "\n",
              "    .dataframe tbody tr th {\n",
              "        vertical-align: top;\n",
              "    }\n",
              "\n",
              "    .dataframe thead th {\n",
              "        text-align: right;\n",
              "    }\n",
              "</style>\n",
              "<table border=\"1\" class=\"dataframe\">\n",
              "  <thead>\n",
              "    <tr style=\"text-align: right;\">\n",
              "      <th></th>\n",
              "      <th>area</th>\n",
              "      <th>rooms</th>\n",
              "      <th>bathroom</th>\n",
              "      <th>parking spaces</th>\n",
              "      <th>floor</th>\n",
              "      <th>hoa (R$)</th>\n",
              "      <th>property tax (R$)</th>\n",
              "      <th>fire insurance (R$)</th>\n",
              "      <th>total (R$)</th>\n",
              "      <th>0</th>\n",
              "      <th>1</th>\n",
              "      <th>2</th>\n",
              "      <th>3</th>\n",
              "      <th>4</th>\n",
              "    </tr>\n",
              "  </thead>\n",
              "  <tbody>\n",
              "    <tr>\n",
              "      <th>0</th>\n",
              "      <td>70</td>\n",
              "      <td>2</td>\n",
              "      <td>1</td>\n",
              "      <td>1</td>\n",
              "      <td>7</td>\n",
              "      <td>2065</td>\n",
              "      <td>211</td>\n",
              "      <td>42</td>\n",
              "      <td>5618</td>\n",
              "      <td>0</td>\n",
              "      <td>0</td>\n",
              "      <td>0</td>\n",
              "      <td>0</td>\n",
              "      <td>1</td>\n",
              "    </tr>\n",
              "    <tr>\n",
              "      <th>1</th>\n",
              "      <td>320</td>\n",
              "      <td>4</td>\n",
              "      <td>4</td>\n",
              "      <td>0</td>\n",
              "      <td>20</td>\n",
              "      <td>1200</td>\n",
              "      <td>1750</td>\n",
              "      <td>63</td>\n",
              "      <td>7973</td>\n",
              "      <td>0</td>\n",
              "      <td>0</td>\n",
              "      <td>0</td>\n",
              "      <td>0</td>\n",
              "      <td>1</td>\n",
              "    </tr>\n",
              "    <tr>\n",
              "      <th>2</th>\n",
              "      <td>80</td>\n",
              "      <td>1</td>\n",
              "      <td>1</td>\n",
              "      <td>1</td>\n",
              "      <td>6</td>\n",
              "      <td>1000</td>\n",
              "      <td>0</td>\n",
              "      <td>41</td>\n",
              "      <td>3841</td>\n",
              "      <td>0</td>\n",
              "      <td>0</td>\n",
              "      <td>1</td>\n",
              "      <td>0</td>\n",
              "      <td>0</td>\n",
              "    </tr>\n",
              "    <tr>\n",
              "      <th>3</th>\n",
              "      <td>51</td>\n",
              "      <td>2</td>\n",
              "      <td>1</td>\n",
              "      <td>0</td>\n",
              "      <td>2</td>\n",
              "      <td>270</td>\n",
              "      <td>22</td>\n",
              "      <td>17</td>\n",
              "      <td>1421</td>\n",
              "      <td>0</td>\n",
              "      <td>0</td>\n",
              "      <td>1</td>\n",
              "      <td>0</td>\n",
              "      <td>0</td>\n",
              "    </tr>\n",
              "    <tr>\n",
              "      <th>4</th>\n",
              "      <td>25</td>\n",
              "      <td>1</td>\n",
              "      <td>1</td>\n",
              "      <td>0</td>\n",
              "      <td>1</td>\n",
              "      <td>0</td>\n",
              "      <td>25</td>\n",
              "      <td>11</td>\n",
              "      <td>836</td>\n",
              "      <td>0</td>\n",
              "      <td>0</td>\n",
              "      <td>0</td>\n",
              "      <td>0</td>\n",
              "      <td>1</td>\n",
              "    </tr>\n",
              "    <tr>\n",
              "      <th>...</th>\n",
              "      <td>...</td>\n",
              "      <td>...</td>\n",
              "      <td>...</td>\n",
              "      <td>...</td>\n",
              "      <td>...</td>\n",
              "      <td>...</td>\n",
              "      <td>...</td>\n",
              "      <td>...</td>\n",
              "      <td>...</td>\n",
              "      <td>...</td>\n",
              "      <td>...</td>\n",
              "      <td>...</td>\n",
              "      <td>...</td>\n",
              "      <td>...</td>\n",
              "    </tr>\n",
              "    <tr>\n",
              "      <th>9995</th>\n",
              "      <td>386</td>\n",
              "      <td>3</td>\n",
              "      <td>4</td>\n",
              "      <td>8</td>\n",
              "      <td>0</td>\n",
              "      <td>0</td>\n",
              "      <td>730</td>\n",
              "      <td>107</td>\n",
              "      <td>7337</td>\n",
              "      <td>1</td>\n",
              "      <td>0</td>\n",
              "      <td>0</td>\n",
              "      <td>0</td>\n",
              "      <td>0</td>\n",
              "    </tr>\n",
              "    <tr>\n",
              "      <th>9996</th>\n",
              "      <td>19</td>\n",
              "      <td>1</td>\n",
              "      <td>1</td>\n",
              "      <td>0</td>\n",
              "      <td>0</td>\n",
              "      <td>0</td>\n",
              "      <td>41</td>\n",
              "      <td>16</td>\n",
              "      <td>1257</td>\n",
              "      <td>0</td>\n",
              "      <td>0</td>\n",
              "      <td>0</td>\n",
              "      <td>0</td>\n",
              "      <td>1</td>\n",
              "    </tr>\n",
              "    <tr>\n",
              "      <th>9997</th>\n",
              "      <td>550</td>\n",
              "      <td>4</td>\n",
              "      <td>6</td>\n",
              "      <td>4</td>\n",
              "      <td>1</td>\n",
              "      <td>3200</td>\n",
              "      <td>1917</td>\n",
              "      <td>178</td>\n",
              "      <td>19300</td>\n",
              "      <td>0</td>\n",
              "      <td>0</td>\n",
              "      <td>0</td>\n",
              "      <td>0</td>\n",
              "      <td>1</td>\n",
              "    </tr>\n",
              "    <tr>\n",
              "      <th>9998</th>\n",
              "      <td>384</td>\n",
              "      <td>3</td>\n",
              "      <td>5</td>\n",
              "      <td>3</td>\n",
              "      <td>0</td>\n",
              "      <td>0</td>\n",
              "      <td>1050</td>\n",
              "      <td>151</td>\n",
              "      <td>11200</td>\n",
              "      <td>0</td>\n",
              "      <td>0</td>\n",
              "      <td>0</td>\n",
              "      <td>0</td>\n",
              "      <td>1</td>\n",
              "    </tr>\n",
              "    <tr>\n",
              "      <th>9999</th>\n",
              "      <td>48</td>\n",
              "      <td>1</td>\n",
              "      <td>1</td>\n",
              "      <td>0</td>\n",
              "      <td>4</td>\n",
              "      <td>250</td>\n",
              "      <td>21</td>\n",
              "      <td>11</td>\n",
              "      <td>1032</td>\n",
              "      <td>0</td>\n",
              "      <td>0</td>\n",
              "      <td>1</td>\n",
              "      <td>0</td>\n",
              "      <td>0</td>\n",
              "    </tr>\n",
              "  </tbody>\n",
              "</table>\n",
              "<p>10000 rows × 14 columns</p>\n",
              "</div>"
            ],
            "text/plain": [
              "      area  rooms  bathroom  parking spaces  floor  ...  0  1  2  3  4\n",
              "0       70      2         1               1      7  ...  0  0  0  0  1\n",
              "1      320      4         4               0     20  ...  0  0  0  0  1\n",
              "2       80      1         1               1      6  ...  0  0  1  0  0\n",
              "3       51      2         1               0      2  ...  0  0  1  0  0\n",
              "4       25      1         1               0      1  ...  0  0  0  0  1\n",
              "...    ...    ...       ...             ...    ...  ... .. .. .. .. ..\n",
              "9995   386      3         4               8      0  ...  1  0  0  0  0\n",
              "9996    19      1         1               0      0  ...  0  0  0  0  1\n",
              "9997   550      4         6               4      1  ...  0  0  0  0  1\n",
              "9998   384      3         5               3      0  ...  0  0  0  0  1\n",
              "9999    48      1         1               0      4  ...  0  0  1  0  0\n",
              "\n",
              "[10000 rows x 14 columns]"
            ]
          },
          "metadata": {
            "tags": []
          },
          "execution_count": 88
        }
      ]
    },
    {
      "cell_type": "code",
      "metadata": {
        "id": "91By71-zA-Tf",
        "colab_type": "code",
        "colab": {
          "base_uri": "https://localhost:8080/",
          "height": 51
        },
        "outputId": "d1be8d94-3d27-4402-9144-5ca9189f8189"
      },
      "source": [
        "model.predict(X)"
      ],
      "execution_count": 89,
      "outputs": [
        {
          "output_type": "execute_result",
          "data": {
            "text/plain": [
              "array([ 3299.6514582 ,  4960.00550966,  2799.89977808, ...,\n",
              "       14004.22713195,  9998.7106001 ,   749.9557963 ])"
            ]
          },
          "metadata": {
            "tags": []
          },
          "execution_count": 89
        }
      ]
    },
    {
      "cell_type": "code",
      "metadata": {
        "id": "9nOEEqfRBCzf",
        "colab_type": "code",
        "colab": {
          "base_uri": "https://localhost:8080/",
          "height": 34
        },
        "outputId": "8aa936b5-2cbf-4c3f-f396-ab91d05b328b"
      },
      "source": [
        "model.score(X,y)\n"
      ],
      "execution_count": 90,
      "outputs": [
        {
          "output_type": "execute_result",
          "data": {
            "text/plain": [
              "0.9999965658609445"
            ]
          },
          "metadata": {
            "tags": []
          },
          "execution_count": 90
        }
      ]
    },
    {
      "cell_type": "code",
      "metadata": {
        "id": "R0SFNhybBHh7",
        "colab_type": "code",
        "colab": {
          "base_uri": "https://localhost:8080/",
          "height": 34
        },
        "outputId": "b25ea822-47e7-4047-aaf3-1b3b4dfcf68e"
      },
      "source": [
        "model.predict([[340,3,2,1,5,200,100.,20,3000,0,0,0,0,1]])"
      ],
      "execution_count": 91,
      "outputs": [
        {
          "output_type": "execute_result",
          "data": {
            "text/plain": [
              "array([2679.71737089])"
            ]
          },
          "metadata": {
            "tags": []
          },
          "execution_count": 91
        }
      ]
    },
    {
      "cell_type": "markdown",
      "metadata": {
        "id": "cMX19bTPMG-o",
        "colab_type": "text"
      },
      "source": [
        "340 area house having 3 rooms 2 bathrooms 1 parking space ...5 floors ..200 hoa ...100 property tax ..20 fire insurance ..total 3000 $ cost ...in sao paulo "
      ]
    },
    {
      "cell_type": "code",
      "metadata": {
        "id": "ZB7hIP7NB8L9",
        "colab_type": "code",
        "colab": {}
      },
      "source": [
        ""
      ],
      "execution_count": 0,
      "outputs": []
    },
    {
      "cell_type": "code",
      "metadata": {
        "id": "2MbvwnuACMVW",
        "colab_type": "code",
        "colab": {}
      },
      "source": [
        "import pandas as pd  \n",
        "import numpy as np  \n",
        "import matplotlib.pyplot as plt  \n",
        "import seaborn as seabornInstance \n",
        "from sklearn.model_selection import train_test_split \n",
        "from sklearn.linear_model import LinearRegression\n",
        "from sklearn import metrics"
      ],
      "execution_count": 0,
      "outputs": []
    },
    {
      "cell_type": "code",
      "metadata": {
        "id": "wN-lWDmXCRQy",
        "colab_type": "code",
        "colab": {
          "base_uri": "https://localhost:8080/",
          "height": 34
        },
        "outputId": "393cef17-a53a-4d46-98e1-417a43c55a7d"
      },
      "source": [
        "regressor = LinearRegression()  \n",
        "regressor.fit(X,y)"
      ],
      "execution_count": 95,
      "outputs": [
        {
          "output_type": "execute_result",
          "data": {
            "text/plain": [
              "LinearRegression(copy_X=True, fit_intercept=True, n_jobs=None, normalize=False)"
            ]
          },
          "metadata": {
            "tags": []
          },
          "execution_count": 95
        }
      ]
    },
    {
      "cell_type": "code",
      "metadata": {
        "id": "Hlr_0g2OB8sN",
        "colab_type": "code",
        "colab": {
          "base_uri": "https://localhost:8080/",
          "height": 483
        },
        "outputId": "2d4a24ea-8586-4f9b-ff20-7365d7792f6a"
      },
      "source": [
        "coeff_df = pd.DataFrame(regressor.coef_, X.columns, columns=['Coefficient'])  \n",
        "coeff_df"
      ],
      "execution_count": 96,
      "outputs": [
        {
          "output_type": "execute_result",
          "data": {
            "text/html": [
              "<div>\n",
              "<style scoped>\n",
              "    .dataframe tbody tr th:only-of-type {\n",
              "        vertical-align: middle;\n",
              "    }\n",
              "\n",
              "    .dataframe tbody tr th {\n",
              "        vertical-align: top;\n",
              "    }\n",
              "\n",
              "    .dataframe thead th {\n",
              "        text-align: right;\n",
              "    }\n",
              "</style>\n",
              "<table border=\"1\" class=\"dataframe\">\n",
              "  <thead>\n",
              "    <tr style=\"text-align: right;\">\n",
              "      <th></th>\n",
              "      <th>Coefficient</th>\n",
              "    </tr>\n",
              "  </thead>\n",
              "  <tbody>\n",
              "    <tr>\n",
              "      <th>area</th>\n",
              "      <td>-0.000027</td>\n",
              "    </tr>\n",
              "    <tr>\n",
              "      <th>rooms</th>\n",
              "      <td>0.059042</td>\n",
              "    </tr>\n",
              "    <tr>\n",
              "      <th>bathroom</th>\n",
              "      <td>-0.038443</td>\n",
              "    </tr>\n",
              "    <tr>\n",
              "      <th>parking spaces</th>\n",
              "      <td>0.009371</td>\n",
              "    </tr>\n",
              "    <tr>\n",
              "      <th>floor</th>\n",
              "      <td>0.016783</td>\n",
              "    </tr>\n",
              "    <tr>\n",
              "      <th>hoa (R$)</th>\n",
              "      <td>-0.999979</td>\n",
              "    </tr>\n",
              "    <tr>\n",
              "      <th>property tax (R$)</th>\n",
              "      <td>-0.999811</td>\n",
              "    </tr>\n",
              "    <tr>\n",
              "      <th>fire insurance (R$)</th>\n",
              "      <td>-0.992607</td>\n",
              "    </tr>\n",
              "    <tr>\n",
              "      <th>total (R$)</th>\n",
              "      <td>0.999882</td>\n",
              "    </tr>\n",
              "    <tr>\n",
              "      <th>0</th>\n",
              "      <td>-0.221146</td>\n",
              "    </tr>\n",
              "    <tr>\n",
              "      <th>1</th>\n",
              "      <td>0.095408</td>\n",
              "    </tr>\n",
              "    <tr>\n",
              "      <th>2</th>\n",
              "      <td>0.071946</td>\n",
              "    </tr>\n",
              "    <tr>\n",
              "      <th>3</th>\n",
              "      <td>0.166135</td>\n",
              "    </tr>\n",
              "    <tr>\n",
              "      <th>4</th>\n",
              "      <td>-0.112344</td>\n",
              "    </tr>\n",
              "  </tbody>\n",
              "</table>\n",
              "</div>"
            ],
            "text/plain": [
              "                     Coefficient\n",
              "area                   -0.000027\n",
              "rooms                   0.059042\n",
              "bathroom               -0.038443\n",
              "parking spaces          0.009371\n",
              "floor                   0.016783\n",
              "hoa (R$)               -0.999979\n",
              "property tax (R$)      -0.999811\n",
              "fire insurance (R$)    -0.992607\n",
              "total (R$)              0.999882\n",
              "0                      -0.221146\n",
              "1                       0.095408\n",
              "2                       0.071946\n",
              "3                       0.166135\n",
              "4                      -0.112344"
            ]
          },
          "metadata": {
            "tags": []
          },
          "execution_count": 96
        }
      ]
    },
    {
      "cell_type": "code",
      "metadata": {
        "id": "Zj3vixKsCcCD",
        "colab_type": "code",
        "colab": {
          "base_uri": "https://localhost:8080/",
          "height": 1000
        },
        "outputId": "7682b85e-bea7-4642-8d26-7f9ce649be14"
      },
      "source": [
        "y_pred = regressor.predict(X_test)\n",
        "y_pred"
      ],
      "execution_count": 110,
      "outputs": [
        {
          "output_type": "execute_result",
          "data": {
            "text/plain": [
              "array([ 3079.70652528,  1099.6669418 ,  2099.79495076,  1989.6682118 ,\n",
              "        3199.75039374,  1439.78916471,  3957.66625475,  3949.91022025,\n",
              "        1099.74629397,  1200.12385344,  5499.53157447, 11503.36496108,\n",
              "        3699.88961506,  1999.94092221,  3999.87691791,  4999.93073351,\n",
              "        2799.72475119,   999.6982992 ,  2300.07387844,  1300.03516357,\n",
              "        5439.62928827,  7610.80569062,  1600.03928484,  1149.80556823,\n",
              "        1899.95751028,  1049.71933389,  1019.63137301,  8449.7467227 ,\n",
              "         719.9783487 ,  1500.0088251 ,  2199.66911643,  2399.68957445,\n",
              "        4909.42702683,  3399.78600271,  3296.79270426,  5999.86243519,\n",
              "        9236.8182303 ,  2749.7832256 ,  6496.52436874,  2110.00259574,\n",
              "        3999.80547582,  2350.05199317,  3799.58381139,  7999.72284761,\n",
              "        4699.69274835,  4699.84417636,  3399.6422448 ,  1799.80382841,\n",
              "        3260.08287997, 11001.35318401,  5995.20716133,  8398.64793283,\n",
              "        2999.94781631,   919.72908313,   999.73038524,  3519.89601104,\n",
              "        4999.63731092,  1949.86229949,  3999.7159174 ,  1599.76666912,\n",
              "        4499.92147192,  2499.80260901, 11496.86077218,  1499.83348239,\n",
              "        4499.72143378,  1799.71860664,  1299.88001165,  2000.04718829,\n",
              "        5499.84473097,  4899.81839027,  4999.77099384,  1149.75626901,\n",
              "        2399.86740603,  1599.93926387,   719.74236614,  1699.66935764,\n",
              "        1499.96662727, 14002.5591897 ,  4099.82567373,   699.99606988,\n",
              "        1649.75680898,  3299.73299827, 14997.79196068,  1849.96997381,\n",
              "        6199.54045666,  1799.64196899,  1379.97666387,   749.97040264,\n",
              "        6099.74223167,  3399.93036316,  1400.1773306 ,  3999.68164192,\n",
              "       12495.35333031,  1299.99320306, 15002.8222414 ,  1000.03522791,\n",
              "        2799.80220371,  2386.88215681,  2820.0161226 ,  6674.57948933,\n",
              "        5999.83349629,  2200.05273874,  1479.82073354,  4949.77239186,\n",
              "        3099.67207679,   899.63101165,  1399.69735413,  1499.68591085,\n",
              "        4499.91435156,  3699.79518061,  2239.98315652,  6999.82824493,\n",
              "        1448.77603228,  1100.08620094,  1999.92530088,  1299.6988658 ,\n",
              "        2399.86649763,  2539.90764996,  1000.01600048, 10002.5425441 ,\n",
              "        1259.89606407,  9998.8149442 ,  3799.56011841,   949.90847847,\n",
              "        2399.97678608,  4499.87877719,  9998.3905107 ,  1099.71007344,\n",
              "        3399.82965328, 14453.42775522,  1749.90540803,  2199.80661031,\n",
              "        1800.09408942,  1999.78924017,  1399.66970114,  2549.66071085,\n",
              "        3399.96411359,  1799.75245952,  1799.64196899,  2599.62287729,\n",
              "        4199.65192191,  8996.90488159,  2999.85299745,  3199.7989946 ,\n",
              "        6299.68118073,  3990.00323044,  1050.02463332,  4499.65492429,\n",
              "         899.92931431,   891.95049431, 10661.91052006,  6499.74589945,\n",
              "        2999.66242138,  1299.7111768 , 10504.96985309,  1999.71878994,\n",
              "        1229.85484262,  2809.95314294, 10003.76495064,  6399.77563002,\n",
              "        9001.45647796,  9003.80345776,  9004.99957068,   899.7447135 ,\n",
              "         908.06223468,  1240.03678823,  1509.68615133,  1000.00789735,\n",
              "        1949.92110942,  6299.70456362,  3006.84199844,  9848.74666524,\n",
              "       11901.23039722,   800.04171882,   800.14732237,  1649.98990513,\n",
              "        2599.71020797,   520.02715319,  1173.00372876,  3250.15534219,\n",
              "        1449.66357711,  2279.97134151,   960.05190649,   646.93834095,\n",
              "        6800.19639426,  3799.7978591 ,  3454.61466668,  1699.91069105,\n",
              "        1649.71144535,  6999.67835575, 11998.81749258,  2200.00052295,\n",
              "        2000.13238712,  1600.09180087,  2799.68320839,  1649.86628202,\n",
              "        5499.73928794,  5599.7465033 ,  1799.8919278 ,  2799.68377574,\n",
              "        1100.02546259,  1099.97086131,  1549.78887902,  1670.07442764,\n",
              "        9998.80709405,  1299.96530514,   999.88812027,   830.00806654,\n",
              "         999.95143978, 10503.47838424,  7997.56171738,  2189.74577783,\n",
              "        1899.81355775,  9001.50611119,  1000.03611365, 10997.42652555,\n",
              "        2999.72603226,  6099.71394203,   499.64821018,  1299.89527339,\n",
              "        1949.51369807,  7000.30815643,  1299.84512232,  1399.88295084,\n",
              "        3999.67445124, 14995.73233514,  2999.9035267 ,  2999.6724849 ,\n",
              "        1279.76083769,  5379.65495365, 14997.46603395,  3499.63446765,\n",
              "        2889.69657908,  9243.4094828 ,  2999.82286746,  1500.24513699,\n",
              "         999.9794809 ,  7899.80098859,  1599.69412154,  2399.76100157,\n",
              "        1490.08388225,  2307.95791272,  5499.80983853, 15004.15886881,\n",
              "        2449.81365083,  2749.47339704,  7499.84403673,  1850.1469118 ,\n",
              "        3399.82132809,  1600.1911253 ,  1999.69787971,  1799.99502877,\n",
              "        1799.7984162 ,  1499.7192336 ,  1274.65614602,  2799.78349917,\n",
              "        7319.64532116,  6799.79490651,  1199.9955469 ,   949.95537876,\n",
              "        3999.77177655,  1599.0236409 ,  2229.74722019,  8504.48384762,\n",
              "        1300.0669412 , 14999.03807025,  1700.03568764,  2229.87394268,\n",
              "        2300.06851008,  7999.6178951 ,  1099.75562446,  1899.85228422,\n",
              "         999.73391401,   799.97337237,  5154.59828368,  5849.60449652,\n",
              "        2700.01107223,  8999.77975374,  3299.95071148,  1999.83132509,\n",
              "        1609.77470442,  4000.05904242,  2999.82364378, 15003.56072736,\n",
              "        1749.69691624,  1259.98760773,  8819.76450551,  2800.04042284,\n",
              "        6399.80680868,  1549.94111365,  3599.66291021,  2000.02101932,\n",
              "        5999.76212036,  1510.09825519,  2219.96306143,  2399.89169041,\n",
              "        2601.73415959, 12004.63797902,  1699.96830464,  2899.74941396,\n",
              "       14998.32995281,  1299.77610024,  1099.81796247, 14998.45489381,\n",
              "        3250.00523993,  2999.97414498,  2199.88758633,  6499.71684836,\n",
              "        3449.42828197, 11999.52852211,  2899.80752833,  7499.83322689,\n",
              "        1700.08979405,  3999.79110401,   499.99786791,  1105.18453956,\n",
              "        2200.0801216 ,  4499.6012709 ,  9995.39446186,  1339.81036432,\n",
              "        3279.61684645,   960.14765638,   950.12271519,  3799.73851056,\n",
              "        1630.72582956,   799.9485107 ,  2599.94610956,  4999.75488551,\n",
              "        3200.0004699 ,  1199.90133783,  5519.32831377,  1399.7225192 ,\n",
              "        1489.93471055,  2348.60304116,  2759.71490752,   907.70121624,\n",
              "        3899.64001192,  9498.44987121,  1999.78305889,  1429.77246984,\n",
              "       10002.51280175,  1200.05394791,  7499.76072609,  3199.76134839,\n",
              "        5999.49973938,  4799.76589709,  3200.09426135,  4999.65376639,\n",
              "        4499.7264576 ,  2579.86906555,  2599.892063  ,  2999.7696644 ,\n",
              "        2300.04020374, 13495.73154567, 10001.92430411,  1950.00701011,\n",
              "        2799.74217038,  1099.99360012,   999.98688837,  3499.66716549,\n",
              "        2049.79390992,  6800.00596049,  1183.72600555,  2459.77820519,\n",
              "       12496.0213643 ,  3300.0088627 ,  1199.75295162,  3499.70394897,\n",
              "        6799.73609931,  1360.13753326,  8499.91339014,  6499.58790243,\n",
              "        8002.65039401,  1549.83328545,  3336.28269407,  1199.73224793,\n",
              "        6999.91725927,   702.02667235,  4599.83318829,  2799.67689068,\n",
              "       14995.71035499,  3999.81741812,  2350.00222522,   550.07030848,\n",
              "        2300.23706592,  1599.80205084,  6799.51818828,  4699.82434083,\n",
              "       13997.67289725,  3500.02766165,  3399.60744774,  7999.61351155,\n",
              "        3600.13782962,  1399.73941485,  1304.83605053,  1399.69666111,\n",
              "        2000.01871797, 11003.55376911,  3500.02470093,  1999.6899408 ,\n",
              "        4112.9212106 ,  1999.80315946,  1479.93047149,  2359.79933974,\n",
              "         679.63189851,   760.9612579 ,  1599.69142504,  1249.71934672,\n",
              "        8999.8919145 ,  2599.84433418, 14998.56195101,  1099.78883971,\n",
              "         979.72873289,  3499.87413941,  2599.91193517,  1299.78723801,\n",
              "       14996.19925529,  4999.44149835,  7995.61760311,  9004.42601313,\n",
              "        5499.57048649,  1800.04635292,  4799.7933689 ,  1449.80367377,\n",
              "        1399.69319706,  1099.65731534,  3754.30772573,  6799.83680843,\n",
              "        1657.84079263,  2650.02090994,  2899.84047748,  2199.88758633,\n",
              "        2022.71188325,  4149.75645507,  4499.98838918,  1599.77369212,\n",
              "        2148.71237426,  2289.83891333,   999.74090749,  1996.67079972,\n",
              "        1514.95869548,  1649.70302625,  1000.0873516 ,  2999.97525949,\n",
              "        1299.73032317,  1600.05848459,  6999.85110573,  4499.5797383 ,\n",
              "        6449.89049625,  4999.9890185 ,  8501.77466804, 14999.94970298,\n",
              "        1599.70845515,  3000.10299357,  4999.49790947,  2099.82720693,\n",
              "        4999.626344  ,  6027.97800924,  2449.7831451 ,  1899.73719087,\n",
              "        5199.63412553,  1200.10655235,  1199.73211354,  2639.75143768,\n",
              "        2799.91919922,  3199.75346195,  9004.75735384,  7510.66575316,\n",
              "        4999.90374441,  5499.51238086,  1800.05456141,  6999.64792001,\n",
              "       14999.72925209,  1399.80465703,   899.73041984,   799.93657178,\n",
              "        7000.09888162,  3079.79852004,  3199.68927712,  3999.81929252,\n",
              "       11996.09786347,  3700.182506  ,  1499.6967015 ,  1250.02683026,\n",
              "         959.97665484,  3099.7339921 ,  2599.97780108,  3199.94859925,\n",
              "        3799.77629649,  1699.70029074,  2800.05054246, 11996.31396713,\n",
              "        1999.67349547,  3300.00360039,  1499.72421993,  1739.71461249,\n",
              "        2649.9603984 ,  4419.78265832,  4699.91578397,  2499.77337082,\n",
              "        6299.41441338,  4999.62750894,  1999.78341935,  3199.79051084,\n",
              "         899.73063814,   999.711273  , 11996.63890733,  8999.73909644,\n",
              "        2999.77441375,  1499.8362665 ,   750.02099976,  3199.70828655,\n",
              "        3989.76015343,  3599.5834932 ,   899.68141381,   499.93064104,\n",
              "        2999.72221631,  1659.70352883,  1699.98665612,  4099.58845525,\n",
              "        3824.92328241,  5499.84179811,  4999.58351445, 13202.67448902,\n",
              "        1799.67553541,   699.93697235,  2549.8746928 ,  1299.97209894,\n",
              "         939.94666065,  3999.71206775, 14999.50314925,  6499.57670418,\n",
              "       14998.84164721,  4249.6276409 ,  4999.66162551,  3749.7833759 ,\n",
              "        2200.01106629,  1823.70428035,  2189.73923401,  3999.94335742,\n",
              "         999.99111414,  1499.82368849,  1234.95715778,  4269.93428996,\n",
              "        3500.07149252,  5439.57980655,  1999.65018428,  2200.00170334,\n",
              "        3199.85277575,  3849.6277121 ,  1400.07206215,  2999.8658075 ,\n",
              "        4999.81205835,  2349.9721526 ,  7999.86639731,  2999.65082526,\n",
              "        4199.65437313,  3649.77387463,  8999.73395198,  2272.78233967,\n",
              "        1199.9486025 ,  2600.03689258,  1870.06628691, 12996.36455964,\n",
              "        5000.03197067,  3999.80005846,   720.09016889,  7499.99406196,\n",
              "        6499.97731722,  1099.61620189,   715.92385753,  1019.93432852,\n",
              "         679.92945169,  5499.62278973,  2299.80583162,  1599.90609371,\n",
              "        5999.6333776 ,  1930.02487566,  1499.64700202,   999.73445159,\n",
              "        7999.80742434, 14997.95504475,  4000.07720964, 14998.03308526,\n",
              "         991.15947267,  1339.8004494 ,  7999.7174333 ,  4999.9657352 ,\n",
              "        1999.64772605,   999.83124566,  8999.93815507,  3199.61541045,\n",
              "        1999.78730655,  7997.41640257,  2499.77467277,  1189.77773642,\n",
              "        1840.04674274,  3799.65707943,  1389.9822598 ,  5499.88653135,\n",
              "        4899.58662869,  4319.73554031,  2600.05062424,  8773.40734941,\n",
              "        2500.01156651,  1699.81376109,  5199.83564758,  3799.76070126,\n",
              "         999.77588581,   650.02486923,  1710.10528964,  5499.99574967,\n",
              "        5499.56104389,  7999.77558367,  1030.09223782,  3499.7744433 ,\n",
              "        1809.96221685,  3199.75602789,  6144.57954295,  2189.70846454,\n",
              "       15003.84972377,  1600.14080903,  4599.76543981,  2199.88758633,\n",
              "        1199.80295126,  1700.08223631,  2999.57387019,   449.6160951 ,\n",
              "        2999.91265409,  3699.84246047,  5499.76742494,  3800.07726421,\n",
              "        1089.92291613, 15001.01637174,  2899.73721724,  2454.94401827,\n",
              "        2429.56409821,  8703.72622714,  3999.67828149,  2600.06148405,\n",
              "        3499.59798324,   998.69256798,   699.92944251,  1449.78590427,\n",
              "        1099.67637335,  6300.06199596,  9098.82817731,  6999.56404979,\n",
              "        1199.7009097 ,  1342.90739168,  8001.4629651 ,  3099.74542406,\n",
              "        1489.79857859, 11002.30384171,  2089.93164202,  4999.78299412,\n",
              "        5199.91724546,   850.00695718,  1699.74185177,  3500.04309209,\n",
              "         949.76695719,  2199.94829395,  4499.64487025,  1599.95850984,\n",
              "        5999.82905338,  1599.68563982,  2700.14102781,  1249.7034978 ,\n",
              "         869.73541943, 12000.47625737,  2709.65501325,  2899.88983798,\n",
              "        2579.89087693,  2400.17052871,  3300.14921428,  2700.05948946,\n",
              "        1199.90541897,   999.97802805, 10139.47170713,  3999.76694233,\n",
              "        2199.64239407, 10999.20200049,  3299.99165473,  3999.45888123,\n",
              "        3899.95769404,  7520.75724624, 13497.58398138,  1478.02009489,\n",
              "       14995.50021914,  5999.97618162, 12000.76188666,  1399.80019964])"
            ]
          },
          "metadata": {
            "tags": []
          },
          "execution_count": 110
        }
      ]
    },
    {
      "cell_type": "code",
      "metadata": {
        "id": "Xbl04jDCF_6_",
        "colab_type": "code",
        "colab": {
          "base_uri": "https://localhost:8080/",
          "height": 221
        },
        "outputId": "fe25324f-4ba8-44ff-c29c-2714080371f2"
      },
      "source": [
        "y_test"
      ],
      "execution_count": 117,
      "outputs": [
        {
          "output_type": "execute_result",
          "data": {
            "text/plain": [
              "10000     3080\n",
              "10001     1100\n",
              "10002     2100\n",
              "10003     1990\n",
              "10004     3200\n",
              "         ...  \n",
              "10687     1478\n",
              "10688    15000\n",
              "10689     6000\n",
              "10690    12000\n",
              "10691     1400\n",
              "Name: rent amount (R$), Length: 692, dtype: int64"
            ]
          },
          "metadata": {
            "tags": []
          },
          "execution_count": 117
        }
      ]
    },
    {
      "cell_type": "code",
      "metadata": {
        "id": "ZKwf6csHExtx",
        "colab_type": "code",
        "colab": {
          "base_uri": "https://localhost:8080/",
          "height": 669
        },
        "outputId": "94c5b495-bc5e-4091-89c4-efc52a5139c6"
      },
      "source": [
        "df = pd.DataFrame({'Actual': y_test, 'Predicted': y_pred})\n",
        "\n",
        "df1=df.head(20)\n",
        "df1"
      ],
      "execution_count": 119,
      "outputs": [
        {
          "output_type": "execute_result",
          "data": {
            "text/html": [
              "<div>\n",
              "<style scoped>\n",
              "    .dataframe tbody tr th:only-of-type {\n",
              "        vertical-align: middle;\n",
              "    }\n",
              "\n",
              "    .dataframe tbody tr th {\n",
              "        vertical-align: top;\n",
              "    }\n",
              "\n",
              "    .dataframe thead th {\n",
              "        text-align: right;\n",
              "    }\n",
              "</style>\n",
              "<table border=\"1\" class=\"dataframe\">\n",
              "  <thead>\n",
              "    <tr style=\"text-align: right;\">\n",
              "      <th></th>\n",
              "      <th>Actual</th>\n",
              "      <th>Predicted</th>\n",
              "    </tr>\n",
              "  </thead>\n",
              "  <tbody>\n",
              "    <tr>\n",
              "      <th>10000</th>\n",
              "      <td>3080</td>\n",
              "      <td>3079.706525</td>\n",
              "    </tr>\n",
              "    <tr>\n",
              "      <th>10001</th>\n",
              "      <td>1100</td>\n",
              "      <td>1099.666942</td>\n",
              "    </tr>\n",
              "    <tr>\n",
              "      <th>10002</th>\n",
              "      <td>2100</td>\n",
              "      <td>2099.794951</td>\n",
              "    </tr>\n",
              "    <tr>\n",
              "      <th>10003</th>\n",
              "      <td>1990</td>\n",
              "      <td>1989.668212</td>\n",
              "    </tr>\n",
              "    <tr>\n",
              "      <th>10004</th>\n",
              "      <td>3200</td>\n",
              "      <td>3199.750394</td>\n",
              "    </tr>\n",
              "    <tr>\n",
              "      <th>10005</th>\n",
              "      <td>1440</td>\n",
              "      <td>1439.789165</td>\n",
              "    </tr>\n",
              "    <tr>\n",
              "      <th>10006</th>\n",
              "      <td>3958</td>\n",
              "      <td>3957.666255</td>\n",
              "    </tr>\n",
              "    <tr>\n",
              "      <th>10007</th>\n",
              "      <td>3950</td>\n",
              "      <td>3949.910220</td>\n",
              "    </tr>\n",
              "    <tr>\n",
              "      <th>10008</th>\n",
              "      <td>1100</td>\n",
              "      <td>1099.746294</td>\n",
              "    </tr>\n",
              "    <tr>\n",
              "      <th>10009</th>\n",
              "      <td>1200</td>\n",
              "      <td>1200.123853</td>\n",
              "    </tr>\n",
              "    <tr>\n",
              "      <th>10010</th>\n",
              "      <td>5500</td>\n",
              "      <td>5499.531574</td>\n",
              "    </tr>\n",
              "    <tr>\n",
              "      <th>10011</th>\n",
              "      <td>11500</td>\n",
              "      <td>11503.364961</td>\n",
              "    </tr>\n",
              "    <tr>\n",
              "      <th>10012</th>\n",
              "      <td>3700</td>\n",
              "      <td>3699.889615</td>\n",
              "    </tr>\n",
              "    <tr>\n",
              "      <th>10013</th>\n",
              "      <td>2000</td>\n",
              "      <td>1999.940922</td>\n",
              "    </tr>\n",
              "    <tr>\n",
              "      <th>10014</th>\n",
              "      <td>4000</td>\n",
              "      <td>3999.876918</td>\n",
              "    </tr>\n",
              "    <tr>\n",
              "      <th>10015</th>\n",
              "      <td>5000</td>\n",
              "      <td>4999.930734</td>\n",
              "    </tr>\n",
              "    <tr>\n",
              "      <th>10016</th>\n",
              "      <td>2800</td>\n",
              "      <td>2799.724751</td>\n",
              "    </tr>\n",
              "    <tr>\n",
              "      <th>10017</th>\n",
              "      <td>1000</td>\n",
              "      <td>999.698299</td>\n",
              "    </tr>\n",
              "    <tr>\n",
              "      <th>10018</th>\n",
              "      <td>2300</td>\n",
              "      <td>2300.073878</td>\n",
              "    </tr>\n",
              "    <tr>\n",
              "      <th>10019</th>\n",
              "      <td>1300</td>\n",
              "      <td>1300.035164</td>\n",
              "    </tr>\n",
              "  </tbody>\n",
              "</table>\n",
              "</div>"
            ],
            "text/plain": [
              "       Actual     Predicted\n",
              "10000    3080   3079.706525\n",
              "10001    1100   1099.666942\n",
              "10002    2100   2099.794951\n",
              "10003    1990   1989.668212\n",
              "10004    3200   3199.750394\n",
              "10005    1440   1439.789165\n",
              "10006    3958   3957.666255\n",
              "10007    3950   3949.910220\n",
              "10008    1100   1099.746294\n",
              "10009    1200   1200.123853\n",
              "10010    5500   5499.531574\n",
              "10011   11500  11503.364961\n",
              "10012    3700   3699.889615\n",
              "10013    2000   1999.940922\n",
              "10014    4000   3999.876918\n",
              "10015    5000   4999.930734\n",
              "10016    2800   2799.724751\n",
              "10017    1000    999.698299\n",
              "10018    2300   2300.073878\n",
              "10019    1300   1300.035164"
            ]
          },
          "metadata": {
            "tags": []
          },
          "execution_count": 119
        }
      ]
    },
    {
      "cell_type": "code",
      "metadata": {
        "id": "SjrpRqvLFkNX",
        "colab_type": "code",
        "colab": {
          "base_uri": "https://localhost:8080/",
          "height": 506
        },
        "outputId": "4b13688d-8554-42b2-8616-ca0c5fe9a71e"
      },
      "source": [
        "df1.plot(kind='bar',figsize=(10,8))\n",
        "plt.grid(which='major', linestyle='-', linewidth='0.5', color='green')\n",
        "plt.grid(which='minor', linestyle=':', linewidth='0.5', color='black')\n",
        "plt.show()\n"
      ],
      "execution_count": 116,
      "outputs": [
        {
          "output_type": "display_data",
          "data": {
            "image/png": "[encoded data removed]",
            "text/plain": [
              "<Figure size 720x576 with 1 Axes>"
            ]
          },
          "metadata": {
            "tags": [],
            "needs_background": "light"
          }
        }
      ]
    },
    {
      "cell_type": "code",
      "metadata": {
        "id": "gbauHGjvGOmE",
        "colab_type": "code",
        "colab": {
          "base_uri": "https://localhost:8080/",
          "height": 68
        },
        "outputId": "6d729203-9125-4cf9-ad40-333a71eb4921"
      },
      "source": [
        "print('Mean Absolute Error:', metrics.mean_absolute_error(y_test, y_pred))  \n",
        "print('Mean Squared Error:', metrics.mean_squared_error(y_test, y_pred))  \n",
        "print('Root Mean Squared Error:', np.sqrt(metrics.mean_squared_error(y_test, y_pred)))"
      ],
      "execution_count": 120,
      "outputs": [
        {
          "output_type": "stream",
          "text": [
            "Mean Absolute Error: 0.5022630688388354\n",
            "Mean Squared Error: 1.1644478912095844\n",
            "Root Mean Squared Error: 1.079095867478689\n"
          ],
          "name": "stdout"
        }
      ]
    },
    {
      "cell_type": "code",
      "metadata": {
        "id": "9v7TLtGZIhDx",
        "colab_type": "code",
        "colab": {
          "base_uri": "https://localhost:8080/",
          "height": 297
        },
        "outputId": "0c427874-4c0e-467d-edc0-0085f2aa473a"
      },
      "source": [
        "dataset.plot(x ='rooms', y='fire insurance (R$)', kind = 'scatter')"
      ],
      "execution_count": 121,
      "outputs": [
        {
          "output_type": "execute_result",
          "data": {
            "text/plain": [
              "<matplotlib.axes._subplots.AxesSubplot at 0x7fa92cba5940>"
            ]
          },
          "metadata": {
            "tags": []
          },
          "execution_count": 121
        },
        {
          "output_type": "display_data",
          "data": {
            "image/png": "[encoded data removed]",
            "text/plain": [
              "<Figure size 432x288 with 1 Axes>"
            ]
          },
          "metadata": {
            "tags": [],
            "needs_background": "light"
          }
        }
      ]
    },
    {
      "cell_type": "markdown",
      "metadata": {
        "id": "RUHrA74AM7bZ",
        "colab_type": "text"
      },
      "source": [
        "question 2 :::::: \n",
        "\n"
      ]
    },
    {
      "cell_type": "code",
      "metadata": {
        "id": "J90YMzicIpML",
        "colab_type": "code",
        "colab": {
          "base_uri": "https://localhost:8080/",
          "height": 296
        },
        "outputId": "8e6a5065-a189-4f70-ffdc-3b0bc47de102"
      },
      "source": [
        "dataset.plot(x ='bathroom', y='property tax (R$)', kind = 'scatter')"
      ],
      "execution_count": 123,
      "outputs": [
        {
          "output_type": "execute_result",
          "data": {
            "text/plain": [
              "<matplotlib.axes._subplots.AxesSubplot at 0x7fa927e7a630>"
            ]
          },
          "metadata": {
            "tags": []
          },
          "execution_count": 123
        },
        {
          "output_type": "display_data",
          "data": {
            "image/png": "[encoded data removed]",
            "text/plain": [
              "<Figure size 432x288 with 1 Axes>"
            ]
          },
          "metadata": {
            "tags": [],
            "needs_background": "light"
          }
        }
      ]
    },
    {
      "cell_type": "code",
      "metadata": {
        "id": "zAtKnA8WIyh9",
        "colab_type": "code",
        "colab": {
          "base_uri": "https://localhost:8080/",
          "height": 296
        },
        "outputId": "82ab03a7-b325-4fe3-d0f0-56bd16c50efd"
      },
      "source": [
        "dataset.plot(x ='parking spaces', y='property tax (R$)', kind = 'scatter')\n",
        "\n"
      ],
      "execution_count": 125,
      "outputs": [
        {
          "output_type": "execute_result",
          "data": {
            "text/plain": [
              "<matplotlib.axes._subplots.AxesSubplot at 0x7fa9280be588>"
            ]
          },
          "metadata": {
            "tags": []
          },
          "execution_count": 125
        },
        {
          "output_type": "display_data",
          "data": {
            "image/png": "[encoded data removed]",
            "text/plain": [
              "<Figure size 432x288 with 1 Axes>"
            ]
          },
          "metadata": {
            "tags": [],
            "needs_background": "light"
          }
        }
      ]
    },
    {
      "cell_type": "code",
      "metadata": {
        "id": "HUq_TgMtI5mw",
        "colab_type": "code",
        "colab": {
          "base_uri": "https://localhost:8080/",
          "height": 296
        },
        "outputId": "41e6d2e1-4d11-459e-f841-12cf53b20cfb"
      },
      "source": [
        "dataset.plot(x ='area', y='property tax (R$)', kind = 'scatter')\n",
        "\n"
      ],
      "execution_count": 126,
      "outputs": [
        {
          "output_type": "execute_result",
          "data": {
            "text/plain": [
              "<matplotlib.axes._subplots.AxesSubplot at 0x7fa927e65198>"
            ]
          },
          "metadata": {
            "tags": []
          },
          "execution_count": 126
        },
        {
          "output_type": "display_data",
          "data": {
            "image/png": "[encoded data removed]",
            "text/plain": [
              "<Figure size 432x288 with 1 Axes>"
            ]
          },
          "metadata": {
            "tags": [],
            "needs_background": "light"
          }
        }
      ]
    },
    {
      "cell_type": "code",
      "metadata": {
        "id": "hojklv487Afa",
        "colab_type": "code",
        "colab": {
          "base_uri": "https://localhost:8080/",
          "height": 136
        },
        "outputId": "7b3de328-4601-47b2-ff51-d725f92d7f4b"
      },
      "source": [
        "from sklearn.preprocessing import OneHotEncoder\n",
        "ohe = OneHotEncoder()\n",
        "from sklearn.linear_model import LinearRegression\n",
        "model = LinearRegression()\n",
        "X = ohe.fit_transform(X).toarray()\n",
        "X\n"
      ],
      "execution_count": 70,
      "outputs": [
        {
          "output_type": "execute_result",
          "data": {
            "text/plain": [
              "array([[1., 0., 1., ..., 0., 1., 0.],\n",
              "       [1., 0., 1., ..., 0., 1., 0.],\n",
              "       [1., 0., 0., ..., 0., 1., 0.],\n",
              "       ...,\n",
              "       [1., 0., 1., ..., 0., 1., 0.],\n",
              "       [1., 0., 1., ..., 0., 1., 0.],\n",
              "       [1., 0., 0., ..., 0., 1., 0.]])"
            ]
          },
          "metadata": {
            "tags": []
          },
          "execution_count": 70
        }
      ]
    },
    {
      "cell_type": "markdown",
      "metadata": {
        "id": "vmbBww8QNF0u",
        "colab_type": "text"
      },
      "source": [
        "I have done the question 3 with 2 methods.. 1st is normal linear regression after creating dummy variable ..\n",
        "2nd is I have used  from sklearn.linear_model import LinearRegression to predict the values \n"
      ]
    }
  ]
}